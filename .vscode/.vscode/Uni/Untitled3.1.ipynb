{
 "cells": [
  {
   "cell_type": "code",
   "execution_count": 12,
   "id": "67f83e89-f3a3-45b8-849e-706499ff1fb6",
   "metadata": {},
   "outputs": [
    {
     "name": "stdout",
     "output_type": "stream",
     "text": [
      "sum of a and b is 30\n"
     ]
    }
   ],
   "source": [
    "def sum1(a, b):\n",
    "    print(\"sum of a and b is\", a+b)\n",
    "sum1(10,20)"
   ]
  },
  {
   "cell_type": "code",
   "execution_count": 14,
   "id": "b312d16d-1283-49fb-b615-7038a63282a5",
   "metadata": {},
   "outputs": [
    {
     "ename": "TypeError",
     "evalue": "sum1() missing 1 required positional argument: 'b'",
     "output_type": "error",
     "traceback": [
      "\u001b[1;31m---------------------------------------------------------------------------\u001b[0m",
      "\u001b[1;31mTypeError\u001b[0m                                 Traceback (most recent call last)",
      "Cell \u001b[1;32mIn[14], line 3\u001b[0m\n\u001b[0;32m      1\u001b[0m \u001b[38;5;28;01mdef\u001b[39;00m \u001b[38;5;21msum1\u001b[39m(a, b):\n\u001b[0;32m      2\u001b[0m     \u001b[38;5;28mprint\u001b[39m(\u001b[38;5;124m\"\u001b[39m\u001b[38;5;124msum of a and b is\u001b[39m\u001b[38;5;124m\"\u001b[39m, a\u001b[38;5;241m+\u001b[39mb)\n\u001b[1;32m----> 3\u001b[0m sum1(\u001b[38;5;241m10\u001b[39m)\n",
      "\u001b[1;31mTypeError\u001b[0m: sum1() missing 1 required positional argument: 'b'"
     ]
    }
   ],
   "source": [
    "def sum1(a, b):\n",
    "    print(\"sum of a and b is\", a+b)\n",
    "sum1(10)"
   ]
  },
  {
   "cell_type": "code",
   "execution_count": 16,
   "id": "a4c42fd7-2408-4b00-b921-e77e46dfdc58",
   "metadata": {},
   "outputs": [
    {
     "name": "stdout",
     "output_type": "stream",
     "text": [
      "sum of a and b is 60\n"
     ]
    }
   ],
   "source": [
    "def sum1(a, b = 50):\n",
    "    print(\"sum of a and b is\" , a+b)\n",
    "sum1(10)"
   ]
  },
  {
   "cell_type": "code",
   "execution_count": 18,
   "id": "e982208c-bc33-4c88-a908-534cc826661d",
   "metadata": {},
   "outputs": [
    {
     "ename": "SyntaxError",
     "evalue": "parameter without a default follows parameter with a default (1909094084.py, line 1)",
     "output_type": "error",
     "traceback": [
      "\u001b[1;36m  Cell \u001b[1;32mIn[18], line 1\u001b[1;36m\u001b[0m\n\u001b[1;33m    def sum(a=50, b):\u001b[0m\n\u001b[1;37m                  ^\u001b[0m\n\u001b[1;31mSyntaxError\u001b[0m\u001b[1;31m:\u001b[0m parameter without a default follows parameter with a default\n"
     ]
    }
   ],
   "source": [
    "def sum(a=50, b):\n",
    "    print(\"sum of no\", a+b)\n",
    "sum(20)"
   ]
  },
  {
   "cell_type": "code",
   "execution_count": 20,
   "id": "f62a7231-e980-4913-8463-5a144a515df0",
   "metadata": {},
   "outputs": [
    {
     "name": "stdout",
     "output_type": "stream",
     "text": [
      "sum of no 70\n"
     ]
    }
   ],
   "source": [
    "def sum(a, b=50):\n",
    "    print(\"sum of no\", a+b)\n",
    "sum(20)"
   ]
  },
  {
   "cell_type": "code",
   "execution_count": 22,
   "id": "eea5b2d0-46bb-4a04-a678-0d265646d3d1",
   "metadata": {},
   "outputs": [
    {
     "ename": "SyntaxError",
     "evalue": "parameter without a default follows parameter with a default (1897745588.py, line 1)",
     "output_type": "error",
     "traceback": [
      "\u001b[1;36m  Cell \u001b[1;32mIn[22], line 1\u001b[1;36m\u001b[0m\n\u001b[1;33m    def sum(a=50, b):\u001b[0m\n\u001b[1;37m                  ^\u001b[0m\n\u001b[1;31mSyntaxError\u001b[0m\u001b[1;31m:\u001b[0m parameter without a default follows parameter with a default\n"
     ]
    }
   ],
   "source": [
    "def sum(a=50, b):\n",
    "    print(\"sum of no\", a+b)\n",
    "sum(20,50)"
   ]
  },
  {
   "cell_type": "code",
   "execution_count": 33,
   "id": "1527f4bd-8f88-4713-8c5b-51ed9e318d8f",
   "metadata": {},
   "outputs": [
    {
     "name": "stdout",
     "output_type": "stream",
     "text": [
      "sum of no 60\n"
     ]
    }
   ],
   "source": [
    "def sum1(a=50, b=50):\n",
    "    print(\"sum of no\", a+b)\n",
    "sum(10)"
   ]
  },
  {
   "cell_type": "code",
   "execution_count": 35,
   "id": "098b8f1d-c071-4043-9558-a5849c369757",
   "metadata": {},
   "outputs": [
    {
     "ename": "SyntaxError",
     "evalue": "parameter without a default follows parameter with a default (2189030886.py, line 1)",
     "output_type": "error",
     "traceback": [
      "\u001b[1;36m  Cell \u001b[1;32mIn[35], line 1\u001b[1;36m\u001b[0m\n\u001b[1;33m    def sum1(a=50, b=50, c):\u001b[0m\n\u001b[1;37m                         ^\u001b[0m\n\u001b[1;31mSyntaxError\u001b[0m\u001b[1;31m:\u001b[0m parameter without a default follows parameter with a default\n"
     ]
    }
   ],
   "source": [
    "def sum1(a=50, b=50, c):\n",
    "    print(\"sum of no\", a+b)\n",
    "sum(20)"
   ]
  },
  {
   "cell_type": "code",
   "execution_count": 49,
   "id": "905052ae-7a8f-44db-8fe3-077531093592",
   "metadata": {},
   "outputs": [
    {
     "ename": "TypeError",
     "evalue": "unsupported operand type(s) for +: 'int' and 'str'",
     "output_type": "error",
     "traceback": [
      "\u001b[1;31m---------------------------------------------------------------------------\u001b[0m",
      "\u001b[1;31mTypeError\u001b[0m                                 Traceback (most recent call last)",
      "Cell \u001b[1;32mIn[49], line 3\u001b[0m\n\u001b[0;32m      1\u001b[0m \u001b[38;5;28;01mdef\u001b[39;00m \u001b[38;5;21msum1\u001b[39m(a, b):\n\u001b[0;32m      2\u001b[0m     \u001b[38;5;28mprint\u001b[39m(\u001b[38;5;124m\"\u001b[39m\u001b[38;5;124msum of no\u001b[39m\u001b[38;5;124m\"\u001b[39m, a\u001b[38;5;241m+\u001b[39mb)\n\u001b[1;32m----> 3\u001b[0m sum1(\u001b[38;5;241m10\u001b[39m, \u001b[38;5;124m\"\u001b[39m\u001b[38;5;124mhello\u001b[39m\u001b[38;5;124m\"\u001b[39m)\n",
      "Cell \u001b[1;32mIn[49], line 2\u001b[0m, in \u001b[0;36msum1\u001b[1;34m(a, b)\u001b[0m\n\u001b[0;32m      1\u001b[0m \u001b[38;5;28;01mdef\u001b[39;00m \u001b[38;5;21msum1\u001b[39m(a, b):\n\u001b[1;32m----> 2\u001b[0m     \u001b[38;5;28mprint\u001b[39m(\u001b[38;5;124m\"\u001b[39m\u001b[38;5;124msum of no\u001b[39m\u001b[38;5;124m\"\u001b[39m, a\u001b[38;5;241m+\u001b[39mb)\n",
      "\u001b[1;31mTypeError\u001b[0m: unsupported operand type(s) for +: 'int' and 'str'"
     ]
    }
   ],
   "source": [
    "def sum1(a, b):\n",
    "    print(\"sum of no\", a+b)\n",
    "sum1(10, \"hello\")"
   ]
  },
  {
   "cell_type": "code",
   "execution_count": 47,
   "id": "ae8ee700-f976-456e-9c0e-17dfbc39308d",
   "metadata": {},
   "outputs": [
    {
     "name": "stdout",
     "output_type": "stream",
     "text": [
      "hello\n"
     ]
    }
   ],
   "source": [
    "def sum1(a, b):\n",
    "    print(\"hello\")\n",
    "#     print(\"sum of a and b is\", a+b)\n",
    "sum1(10, \"hello\")"
   ]
  },
  {
   "cell_type": "code",
   "execution_count": 45,
   "id": "d2fc350e-261e-455f-9a06-c37125715b78",
   "metadata": {},
   "outputs": [
    {
     "name": "stdout",
     "output_type": "stream",
     "text": [
      "sum of number 30\n"
     ]
    }
   ],
   "source": [
    "c,d = 10, 20\n",
    "def sum1(a, b):\n",
    "    print(\"sum of number\", c+d)\n",
    "#     print(\"sum of a and b is\" , a+b)\n",
    "\n",
    "sum1(c,d)"
   ]
  },
  {
   "cell_type": "code",
   "execution_count": 51,
   "id": "41c9904e-3862-484f-907b-8c3c136cc87e",
   "metadata": {},
   "outputs": [
    {
     "name": "stdout",
     "output_type": "stream",
     "text": [
      "sum of number 80\n"
     ]
    }
   ],
   "source": [
    "def sum1(a, b, c):\n",
    "    print(\"sum of number\", a+b+c)\n",
    "#     print(\"sum of a and b is\", a+b)\n",
    "\n",
    "sum1(c=20, a=10, b=50)"
   ]
  },
  {
   "cell_type": "code",
   "execution_count": 56,
   "id": "a5facbe1-66ec-4429-bf80-9f20cf4127e6",
   "metadata": {},
   "outputs": [
    {
     "name": "stdout",
     "output_type": "stream",
     "text": [
      "('hello', 'red', 1, 2, 3)\n",
      "hello\n",
      "red\n",
      "1\n",
      "2\n",
      "3\n"
     ]
    }
   ],
   "source": [
    "def sum1(*a):\n",
    "    print(a)\n",
    "    for x in a:\n",
    "        print(x)\n",
    "sum1(\"hello\", \"red\", 1, 2, 3)"
   ]
  },
  {
   "cell_type": "code",
   "execution_count": 80,
   "id": "b6e856d2-54c8-44b1-86a8-e28e2d320aa1",
   "metadata": {},
   "outputs": [
    {
     "ename": "SyntaxError",
     "evalue": "invalid syntax (4218003559.py, line 2)",
     "output_type": "error",
     "traceback": [
      "\u001b[1;36m  Cell \u001b[1;32mIn[80], line 2\u001b[1;36m\u001b[0m\n\u001b[1;33m    list[]\u001b[0m\n\u001b[1;37m         ^\u001b[0m\n\u001b[1;31mSyntaxError\u001b[0m\u001b[1;31m:\u001b[0m invalid syntax\n"
     ]
    }
   ],
   "source": [
    "n=int(input(\"enter the number\"))\n",
    "list[]\n",
    "def sum1(*a):\n",
    "    print(a)\n",
    "    for x in a:\n",
    "        print(x)\n",
    "sum1()\n",
    "    "
   ]
  },
  {
   "cell_type": "code",
   "execution_count": 1,
   "id": "57bef3cf-1d7c-4b8c-b7b5-8688140fe16f",
   "metadata": {},
   "outputs": [
    {
     "name": "stdout",
     "output_type": "stream",
     "text": [
      "(10, 20, 30, 40, 50) <class 'tuple'>\n"
     ]
    }
   ],
   "source": [
    "def sum1(*a):\n",
    "    print(a, type(a))\n",
    "sum1(10,20,30,40,50)"
   ]
  },
  {
   "cell_type": "code",
   "execution_count": 3,
   "id": "305742ef-c455-441a-95d5-166d78456687",
   "metadata": {},
   "outputs": [
    {
     "name": "stdout",
     "output_type": "stream",
     "text": [
      "([10, 20, 30, 40, 50],) <class 'tuple'>\n"
     ]
    }
   ],
   "source": [
    "def sum1(*a):\n",
    "    print(a, type(a))\n",
    "b = [10,20,30,40,50]\n",
    "sum1(b)"
   ]
  },
  {
   "cell_type": "code",
   "execution_count": 5,
   "id": "755897cd-a6ab-494a-9c8d-13b6f144874e",
   "metadata": {},
   "outputs": [
    {
     "name": "stdout",
     "output_type": "stream",
     "text": [
      "([10, 20, 30, 40, 50],) <class 'tuple'>\n",
      "[10, 20, 30, 40, 50]\n"
     ]
    }
   ],
   "source": [
    "def sum1(*a):\n",
    "    print(a, type(a))\n",
    "    for x in a:\n",
    "        print(x)\n",
    "b = [10,20,30,40,50]\n",
    "sum1(b)"
   ]
  },
  {
   "cell_type": "code",
   "execution_count": 9,
   "id": "12f53599-7b2f-437e-9556-b8a37cb7a689",
   "metadata": {},
   "outputs": [
    {
     "name": "stdout",
     "output_type": "stream",
     "text": [
      "([10, 20, 30, 40, 50],) <class 'tuple'>\n",
      "10\n",
      "20\n",
      "30\n",
      "40\n",
      "50\n",
      "[10, 20, 30, 40, 50]\n"
     ]
    }
   ],
   "source": [
    "def sum1(*a):\n",
    "    print(a, type(a))\n",
    "    for x in a:\n",
    "        for y in x:\n",
    "            print(y)\n",
    "        print(x)\n",
    "b = [10,20,30,40,50]\n",
    "sum1(b)"
   ]
  },
  {
   "cell_type": "code",
   "execution_count": 11,
   "id": "a756a8d0-ea84-492a-ad28-59d3a087f6ad",
   "metadata": {},
   "outputs": [
    {
     "name": "stdout",
     "output_type": "stream",
     "text": [
      "{'first_name': 'Ram', 'last_name': 'Kumar'} <class 'dict'>\n",
      "first_name   Ram\n",
      "last_name   Kumar\n"
     ]
    }
   ],
   "source": [
    "def sum1(**a):\n",
    "    print(a, type(a))\n",
    "    for key,value in a.items():\n",
    "        print(key, \" \",value)\n",
    "sum1(first_name= \"Ram\", last_name=\"Kumar\")"
   ]
  },
  {
   "cell_type": "code",
   "execution_count": 15,
   "id": "b38aee84-8659-4937-8f1a-efd7b54e5163",
   "metadata": {},
   "outputs": [
    {
     "ename": "TypeError",
     "evalue": "sum1() takes 0 positional arguments but 4 were given",
     "output_type": "error",
     "traceback": [
      "\u001b[1;31m---------------------------------------------------------------------------\u001b[0m",
      "\u001b[1;31mTypeError\u001b[0m                                 Traceback (most recent call last)",
      "Cell \u001b[1;32mIn[15], line 5\u001b[0m\n\u001b[0;32m      3\u001b[0m     \u001b[38;5;28;01mfor\u001b[39;00m key,value \u001b[38;5;129;01min\u001b[39;00m a\u001b[38;5;241m.\u001b[39mitems():\n\u001b[0;32m      4\u001b[0m         \u001b[38;5;28mprint\u001b[39m(key, \u001b[38;5;124m\"\u001b[39m\u001b[38;5;124m \u001b[39m\u001b[38;5;124m\"\u001b[39m,value)\n\u001b[1;32m----> 5\u001b[0m sum1(\u001b[38;5;241m10\u001b[39m,\u001b[38;5;241m20\u001b[39m,\u001b[38;5;241m30\u001b[39m,\u001b[38;5;241m40\u001b[39m)\n",
      "\u001b[1;31mTypeError\u001b[0m: sum1() takes 0 positional arguments but 4 were given"
     ]
    }
   ],
   "source": [
    "def sum1(**a):\n",
    "    print(a, type(a))\n",
    "    for key,value in a.items():\n",
    "        print(key, \" \",value)\n",
    "sum1(10,20,30,40)"
   ]
  },
  {
   "cell_type": "code",
   "execution_count": 19,
   "id": "e628d2ef-a304-49da-b5ae-9440efc935fb",
   "metadata": {},
   "outputs": [
    {
     "name": "stdout",
     "output_type": "stream",
     "text": [
      "sum of number 80\n",
      "sum of number 80\n",
      "None <class 'NoneType'>\n"
     ]
    }
   ],
   "source": [
    "def sum1(a, b, c):\n",
    "    print(\"sum of number\", a+b+c)\n",
    "#     print(\"sum of a and b is\", a+b)\n",
    "\n",
    "sum1(c=20, a=10, b=50)\n",
    "x = sum1(c=20, a=10, b=50)\n",
    "print(x, type(x))"
   ]
  },
  {
   "cell_type": "code",
   "execution_count": 29,
   "id": "886bdb27-e065-4eb3-b61e-a67bbf05d4fc",
   "metadata": {},
   "outputs": [
    {
     "name": "stdout",
     "output_type": "stream",
     "text": [
      "20\n",
      "30\n",
      "hello\n",
      "hello\n",
      "None\n"
     ]
    }
   ],
   "source": [
    "def sum1():\n",
    "    print(\"hello\")\n",
    "a=20\n",
    "b=30\n",
    "print(a)\n",
    "print(b)\n",
    "sum1()\n",
    "b=sum1()\n",
    "print(b)"
   ]
  },
  {
   "cell_type": "code",
   "execution_count": 35,
   "id": "a0c06902-8d5a-4688-9088-78e66917cf8e",
   "metadata": {},
   "outputs": [
    {
     "name": "stdout",
     "output_type": "stream",
     "text": [
      "20\n",
      "30\n",
      "hello\n",
      "hello\n",
      "hi\n"
     ]
    }
   ],
   "source": [
    "def sum1():\n",
    "    print(\"hello\")\n",
    "    return \"hi\"\n",
    "    print(\"hello\")\n",
    "a=20\n",
    "b=30\n",
    "print(a)\n",
    "print(b)\n",
    "sum1()\n",
    "b=sum1()\n",
    "print(b)"
   ]
  },
  {
   "cell_type": "code",
   "execution_count": 37,
   "id": "4cb66fbb-62a6-4c0d-b95e-b7206ff0709e",
   "metadata": {},
   "outputs": [
    {
     "name": "stdout",
     "output_type": "stream",
     "text": [
      "Ram\n",
      "Sham\n"
     ]
    }
   ],
   "source": [
    "def sum1():\n",
    "    print(\"Ram\")\n",
    "    print(\"Sham\")\n",
    "sum1()"
   ]
  },
  {
   "cell_type": "code",
   "execution_count": 57,
   "id": "12065fb4-040f-43e2-a427-b8db869a3e13",
   "metadata": {},
   "outputs": [
    {
     "name": "stdout",
     "output_type": "stream",
     "text": [
      "Ram\n",
      "Sham\n"
     ]
    },
    {
     "data": {
      "text/plain": [
       "'Kumar'"
      ]
     },
     "execution_count": 57,
     "metadata": {},
     "output_type": "execute_result"
    }
   ],
   "source": [
    "def sum1():\n",
    "    print(\"Ram\")\n",
    "    print(\"Sham\")\n",
    "    return \"Kumar\"\n",
    "sum1()"
   ]
  },
  {
   "cell_type": "code",
   "execution_count": 45,
   "id": "8508b4f2-563d-4fb2-a64f-ba89b4afd4a0",
   "metadata": {},
   "outputs": [
    {
     "name": "stdout",
     "output_type": "stream",
     "text": [
      "Ram\n",
      "Sham\n"
     ]
    },
    {
     "data": {
      "text/plain": [
       "'Kumar'"
      ]
     },
     "execution_count": 45,
     "metadata": {},
     "output_type": "execute_result"
    }
   ],
   "source": [
    "def sum1():\n",
    "    print(\"Ram\")\n",
    "    print(\"Sham\")\n",
    "    return \"Kumar\"\n",
    "    print(\"xyz\")\n",
    "sum1()"
   ]
  },
  {
   "cell_type": "code",
   "execution_count": 53,
   "id": "b7002e09-a85f-45e2-a3e9-2f9e1b6cb55b",
   "metadata": {},
   "outputs": [
    {
     "name": "stdout",
     "output_type": "stream",
     "text": [
      "Ram\n",
      "Sham\n",
      "Ram\n",
      "Sham\n",
      "Kumar\n"
     ]
    }
   ],
   "source": [
    "def sum1():\n",
    "    print(\"Ram\")\n",
    "    print(\"Sham\")\n",
    "    return \"Kumar\"\n",
    "    print(\"xyz\")\n",
    "sum1()\n",
    "b=sum1()\n",
    "print(b)"
   ]
  },
  {
   "cell_type": "code",
   "execution_count": 61,
   "id": "471db7a6-e306-44de-938a-db4e32882375",
   "metadata": {
    "scrolled": true
   },
   "outputs": [
    {
     "name": "stdout",
     "output_type": "stream",
     "text": [
      "Ram\n",
      "Sham\n"
     ]
    },
    {
     "data": {
      "text/plain": [
       "'Kumar'"
      ]
     },
     "execution_count": 61,
     "metadata": {},
     "output_type": "execute_result"
    }
   ],
   "source": [
    "def sum1():\n",
    "    a==20, b==30\n",
    "    print(\"Ram\")\n",
    "    print(\"Sham\")\n",
    "    return \"Kumar\"\n",
    "    print(\"xyz\")\n",
    "sum1()"
   ]
  },
  {
   "cell_type": "code",
   "execution_count": 65,
   "id": "71744117-152b-4ab1-886b-113ba13ab2de",
   "metadata": {},
   "outputs": [
    {
     "name": "stdout",
     "output_type": "stream",
     "text": [
      "Singh\n"
     ]
    }
   ],
   "source": [
    "def sum1():\n",
    "    print(\"hello\")\n",
    "def sum2():\n",
    "    print(\"hi\")\n",
    "    return \"Kumar\"\n",
    "print(\"Singh\")"
   ]
  },
  {
   "cell_type": "code",
   "execution_count": 81,
   "id": "f641fe54-9b8e-4335-829e-5a49d761638b",
   "metadata": {},
   "outputs": [
    {
     "name": "stdout",
     "output_type": "stream",
     "text": [
      "Singh\n",
      "hello\n",
      "hi\n"
     ]
    },
    {
     "data": {
      "text/plain": [
       "'Kumar'"
      ]
     },
     "execution_count": 81,
     "metadata": {},
     "output_type": "execute_result"
    }
   ],
   "source": [
    "def sum1():\n",
    "    print(\"hello\")\n",
    "def sum2():\n",
    "    print(\"hi\")\n",
    "    return \"Kumar\"\n",
    "print(\"Singh\")\n",
    "sum1()\n",
    "sum2()"
   ]
  },
  {
   "cell_type": "code",
   "execution_count": 83,
   "id": "4449739a-4b57-4fa4-84a2-303098b44ce3",
   "metadata": {},
   "outputs": [
    {
     "name": "stdout",
     "output_type": "stream",
     "text": [
      "Singh\n",
      "hello\n",
      "hi\n",
      "hello\n",
      "None\n",
      "hi\n",
      "Kumar\n"
     ]
    }
   ],
   "source": [
    "def sum1():\n",
    "    print(\"hello\")\n",
    "def sum2():\n",
    "    print(\"hi\")\n",
    "    return \"Kumar\"\n",
    "print(\"Singh\")\n",
    "sum1()\n",
    "sum2()\n",
    "a=sum1()\n",
    "print(a)\n",
    "c=sum2()\n",
    "print(c)"
   ]
  },
  {
   "cell_type": "code",
   "execution_count": 3,
   "id": "c796131e-e463-4ef1-a0d0-3b4173f0a56d",
   "metadata": {},
   "outputs": [
    {
     "data": {
      "text/plain": [
       "120"
      ]
     },
     "execution_count": 3,
     "metadata": {},
     "output_type": "execute_result"
    }
   ],
   "source": [
    "def factorial (n):\n",
    "    if n==0 or n==1:\n",
    "        return 1\n",
    "    else: \n",
    "        return n* factorial(n-1)\n",
    "factorial(5)"
   ]
  },
  {
   "cell_type": "code",
   "execution_count": 7,
   "id": "b7dcb857-1304-48f3-a3f8-4fecb84a2c82",
   "metadata": {},
   "outputs": [
    {
     "data": {
      "text/plain": [
       "24"
      ]
     },
     "execution_count": 7,
     "metadata": {},
     "output_type": "execute_result"
    }
   ],
   "source": [
    "def factorial(n):\n",
    "    if n==0 or n==1:\n",
    "        return 1\n",
    "    else: \n",
    "        return n* factorial(n-1)\n",
    "factorial(4)"
   ]
  },
  {
   "cell_type": "code",
   "execution_count": 43,
   "id": "44d769dd-8ce6-42a2-a024-cc65885fba9b",
   "metadata": {},
   "outputs": [
    {
     "name": "stdout",
     "output_type": "stream",
     "text": [
      "0\n",
      "1\n",
      "1\n",
      "2\n",
      "3\n",
      "5\n",
      "8\n",
      "13\n",
      "21\n",
      "34\n"
     ]
    }
   ],
   "source": [
    "def fibonacci (n):\n",
    "    if n==0 or n==1:\n",
    "        return n\n",
    "    else:\n",
    "        return fibonacci(n-1) + fibonacci(n-2)\n",
    "for i in range(10):\n",
    "    print (fibonacci(i))"
   ]
  },
  {
   "cell_type": "code",
   "execution_count": 72,
   "id": "4ae0331b-c83b-43e8-b972-7261bcf2aa53",
   "metadata": {},
   "outputs": [
    {
     "name": "stdin",
     "output_type": "stream",
     "text": [
      "enter the number of elements in fibonacci series 5\n"
     ]
    },
    {
     "name": "stdout",
     "output_type": "stream",
     "text": [
      "0\n",
      "1\n",
      "1\n",
      "2\n",
      "3\n"
     ]
    }
   ],
   "source": [
    "def sum1(n):\n",
    "    if n==0 or n==1:\n",
    "        return n\n",
    "    else:\n",
    "        return sum1(n-1) + sum1(n-2)\n",
    "\n",
    "n=int(input(\"enter the number of elements in fibonacci series\"))\n",
    "for i in range(0,n):\n",
    "    print(sum1(i))"
   ]
  },
  {
   "cell_type": "code",
   "execution_count": 86,
   "id": "9ba824d5-5f81-45e6-a915-f87cf25a755e",
   "metadata": {},
   "outputs": [
    {
     "name": "stdin",
     "output_type": "stream",
     "text": [
      "enter the number of elements in fibonacci series 10\n"
     ]
    },
    {
     "name": "stdout",
     "output_type": "stream",
     "text": [
      "0\n",
      "1\n",
      "1\n",
      "2\n",
      "3\n",
      "5\n",
      "8\n",
      "13\n",
      "21\n",
      "34\n"
     ]
    }
   ],
   "source": [
    "def sum1(n):\n",
    "    if n==0 or n==1:\n",
    "        return n\n",
    "    else:\n",
    "        return sum1(n-1) + sum1(n-2)\n",
    "\n",
    "n=int(input(\"enter the number of elements in fibonacci series\"))\n",
    "for i in range(0,n):\n",
    "    print(sum1(i))"
   ]
  },
  {
   "cell_type": "code",
   "execution_count": 92,
   "id": "9eee7f29-fb09-4f13-8ccd-4ae96ade8c50",
   "metadata": {},
   "outputs": [
    {
     "name": "stdin",
     "output_type": "stream",
     "text": [
      "enter the number of elements in fibonacci series -1\n"
     ]
    },
    {
     "name": "stdout",
     "output_type": "stream",
     "text": [
      "error\n"
     ]
    }
   ],
   "source": [
    "def sum1(n):\n",
    "    if n==0 or n==1:\n",
    "        return n\n",
    "    else:\n",
    "        return sum1(n-1) + sum1(n-2)\n",
    "\n",
    "n=int(input(\"enter the number of elements in fibonacci series\"))\n",
    "if n>0:\n",
    "    for i in range(0,n):\n",
    "          print(sum1(i))\n",
    "  \n",
    "else:\n",
    "    print(\"error\")\n"
   ]
  },
  {
   "cell_type": "code",
   "execution_count": 1,
   "id": "eb821e95-3ca0-4530-ad70-d829026a03af",
   "metadata": {},
   "outputs": [
    {
     "data": {
      "text/plain": [
       "<generator object sum1 at 0x0000014372348C40>"
      ]
     },
     "execution_count": 1,
     "metadata": {},
     "output_type": "execute_result"
    }
   ],
   "source": [
    "def sum1():\n",
    "    print(\"hello\")\n",
    "    yield \"hii1\"\n",
    "    yield \"hii2\"\n",
    "    yield \"hii3\"\n",
    "sum1()"
   ]
  },
  {
   "cell_type": "code",
   "execution_count": 3,
   "id": "f973a692-94c3-4d34-9f82-b1e7d08e65bb",
   "metadata": {},
   "outputs": [
    {
     "name": "stdout",
     "output_type": "stream",
     "text": [
      "<generator object sum1 at 0x00000143751D7880>\n",
      "hello\n",
      "hii1\n",
      "hii2\n",
      "hii3\n"
     ]
    }
   ],
   "source": [
    "def sum1():\n",
    "    print(\"hello\")\n",
    "    yield \"hii1\"\n",
    "    yield \"hii2\"\n",
    "    yield \"hii3\"\n",
    "x=sum1()\n",
    "print(x)\n",
    "for y in x:\n",
    "    print (y)"
   ]
  },
  {
   "cell_type": "code",
   "execution_count": 5,
   "id": "b7f2e242-87c1-4af4-94e7-9c85e5f39a63",
   "metadata": {},
   "outputs": [
    {
     "name": "stdout",
     "output_type": "stream",
     "text": [
      "range(1, 10)\n"
     ]
    }
   ],
   "source": [
    "def sum1():\n",
    "    print(\"hello\")\n",
    "    yield \"hii1\"\n",
    "    yield \"hii2\"\n",
    "    yield \"hii3\"\n",
    "sum1()\n",
    "print(range(1,10))"
   ]
  },
  {
   "cell_type": "code",
   "execution_count": 9,
   "id": "76c99c94-f493-4741-a744-ea276c523fc8",
   "metadata": {},
   "outputs": [
    {
     "name": "stdout",
     "output_type": "stream",
     "text": [
      "5\n",
      "hello\n",
      "None\n"
     ]
    },
    {
     "ename": "TypeError",
     "evalue": "'NoneType' object is not iterable",
     "output_type": "error",
     "traceback": [
      "\u001b[1;31m---------------------------------------------------------------------------\u001b[0m",
      "\u001b[1;31mTypeError\u001b[0m                                 Traceback (most recent call last)",
      "Cell \u001b[1;32mIn[9], line 7\u001b[0m\n\u001b[0;32m      5\u001b[0m x\u001b[38;5;241m=\u001b[39msum1(\u001b[38;5;241m2\u001b[39m,\u001b[38;5;241m3\u001b[39m)\n\u001b[0;32m      6\u001b[0m \u001b[38;5;28mprint\u001b[39m(x)\n\u001b[1;32m----> 7\u001b[0m \u001b[38;5;28;01mfor\u001b[39;00m y \u001b[38;5;129;01min\u001b[39;00m x:\n\u001b[0;32m      8\u001b[0m     \u001b[38;5;28mprint\u001b[39m(y)\n",
      "\u001b[1;31mTypeError\u001b[0m: 'NoneType' object is not iterable"
     ]
    }
   ],
   "source": [
    "def sum1(a,b):\n",
    "    c=a+b\n",
    "    print(c)\n",
    "    print(\"hello\")\n",
    "x=sum1(2,3)\n",
    "print(x)\n",
    "for y in x:\n",
    "    print(y)"
   ]
  },
  {
   "cell_type": "code",
   "execution_count": 11,
   "id": "a019d11f-ffdd-4e09-9b85-71ae9a7aea09",
   "metadata": {},
   "outputs": [
    {
     "name": "stdout",
     "output_type": "stream",
     "text": [
      "<generator object sum1 at 0x00000143761D4790>\n",
      "5\n",
      "hello\n",
      "hii1\n",
      "hii2\n",
      "hii3\n"
     ]
    }
   ],
   "source": [
    "def sum1(a,b):\n",
    "    c=a+b\n",
    "    print(c)\n",
    "    print(\"hello\")\n",
    "    yield \"hii1\"\n",
    "    yield \"hii2\"\n",
    "    yield \"hii3\"\n",
    "x=sum1(2,3)\n",
    "print(x)\n",
    "for y in x:\n",
    "    print(y)"
   ]
  },
  {
   "cell_type": "code",
   "execution_count": 13,
   "id": "f92fea8f-3f95-4e87-b8f9-070171a4ffcc",
   "metadata": {},
   "outputs": [
    {
     "name": "stdout",
     "output_type": "stream",
     "text": [
      "5\n",
      "hello\n",
      "hii1\n",
      "hii2\n",
      "hii3\n"
     ]
    },
    {
     "ename": "StopIteration",
     "evalue": "",
     "output_type": "error",
     "traceback": [
      "\u001b[1;31m---------------------------------------------------------------------------\u001b[0m",
      "\u001b[1;31mStopIteration\u001b[0m                             Traceback (most recent call last)",
      "Cell \u001b[1;32mIn[13], line 12\u001b[0m\n\u001b[0;32m     10\u001b[0m \u001b[38;5;28mprint\u001b[39m(\u001b[38;5;28mnext\u001b[39m(x))\n\u001b[0;32m     11\u001b[0m \u001b[38;5;28mprint\u001b[39m(\u001b[38;5;28mnext\u001b[39m(x))\n\u001b[1;32m---> 12\u001b[0m \u001b[38;5;28mprint\u001b[39m(\u001b[38;5;28mnext\u001b[39m(x))\n",
      "\u001b[1;31mStopIteration\u001b[0m: "
     ]
    }
   ],
   "source": [
    "def sum1(a,b):\n",
    "    c=a+b\n",
    "    print(c)\n",
    "    print(\"hello\")\n",
    "    yield \"hii1\"\n",
    "    yield \"hii2\"\n",
    "    yield \"hii3\"\n",
    "x=sum1(2,3)\n",
    "print(next(x))\n",
    "print(next(x))\n",
    "print(next(x))\n",
    "print(next(x))"
   ]
  },
  {
   "cell_type": "code",
   "execution_count": 21,
   "id": "05ccae67-91bb-44b0-ae7c-a3ed8b818dd9",
   "metadata": {},
   "outputs": [
    {
     "name": "stdout",
     "output_type": "stream",
     "text": [
      "5\n",
      "hello\n",
      "hii1\n",
      "hii2\n"
     ]
    },
    {
     "ename": "StopIteration",
     "evalue": "hello1",
     "output_type": "error",
     "traceback": [
      "\u001b[1;31m---------------------------------------------------------------------------\u001b[0m",
      "\u001b[1;31mStopIteration\u001b[0m                             Traceback (most recent call last)",
      "Cell \u001b[1;32mIn[21], line 12\u001b[0m\n\u001b[0;32m     10\u001b[0m \u001b[38;5;28mprint\u001b[39m(\u001b[38;5;28mnext\u001b[39m(x))\n\u001b[0;32m     11\u001b[0m \u001b[38;5;28mprint\u001b[39m(\u001b[38;5;28mnext\u001b[39m(x))\n\u001b[1;32m---> 12\u001b[0m \u001b[38;5;28mprint\u001b[39m(\u001b[38;5;28mnext\u001b[39m(x))\n",
      "\u001b[1;31mStopIteration\u001b[0m: hello1"
     ]
    }
   ],
   "source": [
    "def sum1(a,b):\n",
    "    c=a+b\n",
    "    print(c)\n",
    "    print(\"hello\")\n",
    "    yield \"hii1\"\n",
    "    yield \"hii2\"\n",
    "    return \"hello1\"\n",
    "    yield \"hii3\"\n",
    "x=sum1(2,3)\n",
    "print(next(x))\n",
    "print(next(x))\n",
    "print(next(x))"
   ]
  },
  {
   "cell_type": "code",
   "execution_count": 23,
   "id": "64317e47-3a45-41e5-b56e-9f454015dca2",
   "metadata": {},
   "outputs": [
    {
     "name": "stdout",
     "output_type": "stream",
     "text": [
      "<generator object sum1 at 0x0000014376239D80>\n"
     ]
    }
   ],
   "source": [
    "def sum1(a,b):\n",
    "    c=a+b\n",
    "    print(c)\n",
    "    print(\"hello\")\n",
    "    yield \"hii1\"\n",
    "    yield \"hii2\"\n",
    "    return \"hello1\"\n",
    "    yield \"hii3\"\n",
    "x=sum1(2,3)\n",
    "print(x)"
   ]
  },
  {
   "cell_type": "code",
   "execution_count": 31,
   "id": "eaf5b9a6-b5b3-4a90-aad6-371f39e02ff1",
   "metadata": {},
   "outputs": [
    {
     "name": "stdout",
     "output_type": "stream",
     "text": [
      "20\n"
     ]
    }
   ],
   "source": [
    "x=20\n",
    "def scope1():\n",
    "    x=30 \n",
    "scope1()\n",
    "print(x)"
   ]
  },
  {
   "cell_type": "code",
   "execution_count": 37,
   "id": "267687f6-27b1-43f7-a28c-a58fe84840a7",
   "metadata": {},
   "outputs": [
    {
     "ename": "NameError",
     "evalue": "name 'z' is not defined",
     "output_type": "error",
     "traceback": [
      "\u001b[1;31m---------------------------------------------------------------------------\u001b[0m",
      "\u001b[1;31mNameError\u001b[0m                                 Traceback (most recent call last)",
      "Cell \u001b[1;32mIn[37], line 5\u001b[0m\n\u001b[0;32m      3\u001b[0m     z\u001b[38;5;241m=\u001b[39m\u001b[38;5;241m50\u001b[39m \n\u001b[0;32m      4\u001b[0m scope1()\n\u001b[1;32m----> 5\u001b[0m \u001b[38;5;28mprint\u001b[39m(z)\n\u001b[0;32m      6\u001b[0m \u001b[38;5;28mprint\u001b[39m(y)\n",
      "\u001b[1;31mNameError\u001b[0m: name 'z' is not defined"
     ]
    }
   ],
   "source": [
    "y=20\n",
    "def scope1():\n",
    "    z=50 \n",
    "scope1()\n",
    "print(z)\n",
    "print(y)"
   ]
  },
  {
   "cell_type": "code",
   "execution_count": 41,
   "id": "c15917a5-fb8b-4b27-b34e-73efabe1adc9",
   "metadata": {},
   "outputs": [
    {
     "name": "stdout",
     "output_type": "stream",
     "text": [
      "50\n",
      "20\n"
     ]
    }
   ],
   "source": [
    "y=20\n",
    "def scope1():\n",
    "    z=50 \n",
    "    return z\n",
    "z = scope1()\n",
    "print(z)\n",
    "print(y)"
   ]
  },
  {
   "cell_type": "code",
   "execution_count": 43,
   "id": "f269084e-1912-4d44-8d7f-90ecc5ea6824",
   "metadata": {},
   "outputs": [
    {
     "name": "stdout",
     "output_type": "stream",
     "text": [
      "40\n"
     ]
    }
   ],
   "source": [
    "x=20\n",
    "x=40\n",
    "def scope1():\n",
    "    x=30 \n",
    "scope1()\n",
    "print(x)"
   ]
  },
  {
   "cell_type": "code",
   "execution_count": 45,
   "id": "450d94bb-68a4-40a2-899c-55437fde4880",
   "metadata": {},
   "outputs": [
    {
     "ename": "NameError",
     "evalue": "name 'b' is not defined",
     "output_type": "error",
     "traceback": [
      "\u001b[1;31m---------------------------------------------------------------------------\u001b[0m",
      "\u001b[1;31mNameError\u001b[0m                                 Traceback (most recent call last)",
      "Cell \u001b[1;32mIn[45], line 6\u001b[0m\n\u001b[0;32m      4\u001b[0m     \u001b[38;5;28;01mreturn\u001b[39;00m b\n\u001b[0;32m      5\u001b[0m scope1()\n\u001b[1;32m----> 6\u001b[0m \u001b[38;5;28mprint\u001b[39m(b)\n\u001b[0;32m      7\u001b[0m \u001b[38;5;28mprint\u001b[39m(y)\n",
      "\u001b[1;31mNameError\u001b[0m: name 'b' is not defined"
     ]
    }
   ],
   "source": [
    "y=20\n",
    "def scope1():\n",
    "    b=50 \n",
    "    return b\n",
    "scope1()\n",
    "print(b)\n",
    "print(y)"
   ]
  },
  {
   "cell_type": "code",
   "execution_count": 53,
   "id": "1c4cbec4-2151-45e2-b6ea-db59009dac04",
   "metadata": {},
   "outputs": [
    {
     "name": "stdout",
     "output_type": "stream",
     "text": [
      "<map object at 0x000001437566BC40>\n",
      "[25, 64, 1156, 49]\n"
     ]
    }
   ],
   "source": [
    "def square1(x):\n",
    "    return x*x\n",
    "square1(2)\n",
    "list1 = [5,8,34,7]\n",
    "print(map(square1, list1))\n",
    "x = list(map(square1,list1))\n",
    "print(x)"
   ]
  },
  {
   "cell_type": "code",
   "execution_count": 57,
   "id": "fa5b86e4-7c43-4fef-8e65-7af444b16593",
   "metadata": {},
   "outputs": [
    {
     "name": "stdout",
     "output_type": "stream",
     "text": [
      "<map object at 0x00000143753B2770>\n",
      "[1, 4, 9, 16, 25, 36, 49, 64, 81]\n"
     ]
    }
   ],
   "source": [
    "def square1(x):\n",
    "    return x*x\n",
    "square1(2)\n",
    "list1 = [5,8,34,7]\n",
    "print(map(square1,range(1,10)))\n",
    "x = list(map(square1,range(1,10)))\n",
    "print(x)"
   ]
  },
  {
   "cell_type": "code",
   "execution_count": 61,
   "id": "593ee5e7-ed7b-40c1-a4a5-da6479a70699",
   "metadata": {},
   "outputs": [
    {
     "name": "stdout",
     "output_type": "stream",
     "text": [
      "[1, 4, 9, 16, 25, 36, 49, 64, 81]\n"
     ]
    }
   ],
   "source": [
    "def square1(x):\n",
    "    return x*x\n",
    "square1(2)\n",
    "list1 = [5,8,34,7]\n",
    "\n",
    "x = list(map(square1,range(1,10)))\n",
    "print(x)"
   ]
  },
  {
   "cell_type": "code",
   "execution_count": 63,
   "id": "a63fe5da-1dd4-47fe-a1ad-40a65f8f0f44",
   "metadata": {},
   "outputs": [
    {
     "name": "stdout",
     "output_type": "stream",
     "text": [
      "3.1622776601683795\n",
      "[1.0, 1.4142135623730951, 1.7320508075688772, 2.0, 2.23606797749979, 2.449489742783178, 2.6457513110645907, 2.8284271247461903, 3.0]\n"
     ]
    }
   ],
   "source": [
    "import math as m\n",
    "def square1(x):\n",
    "    return x*x\n",
    "square1(2),\n",
    "list1 = [5,8,34,7]\n",
    "print(m.sqrt(10))\n",
    "x = list(map(m.sqrt,range(1,10)))\n",
    "print(x)"
   ]
  },
  {
   "cell_type": "code",
   "execution_count": 67,
   "id": "a7e2d927-fa46-4060-9302-3516f43cab4c",
   "metadata": {},
   "outputs": [
    {
     "name": "stdout",
     "output_type": "stream",
     "text": [
      "['__doc__', '__loader__', '__name__', '__package__', '__spec__', 'acos', 'acosh', 'asin', 'asinh', 'atan', 'atan2', 'atanh', 'cbrt', 'ceil', 'comb', 'copysign', 'cos', 'cosh', 'degrees', 'dist', 'e', 'erf', 'erfc', 'exp', 'exp2', 'expm1', 'fabs', 'factorial', 'floor', 'fmod', 'frexp', 'fsum', 'gamma', 'gcd', 'hypot', 'inf', 'isclose', 'isfinite', 'isinf', 'isnan', 'isqrt', 'lcm', 'ldexp', 'lgamma', 'log', 'log10', 'log1p', 'log2', 'modf', 'nan', 'nextafter', 'perm', 'pi', 'pow', 'prod', 'radians', 'remainder', 'sin', 'sinh', 'sqrt', 'sumprod', 'tan', 'tanh', 'tau', 'trunc', 'ulp']\n"
     ]
    }
   ],
   "source": [
    "print(dir(m))"
   ]
  },
  {
   "cell_type": "code",
   "execution_count": 81,
   "id": "5743017d-e95b-4ca3-9a1e-0c7420bff0e0",
   "metadata": {},
   "outputs": [
    {
     "name": "stdout",
     "output_type": "stream",
     "text": [
      "3.912023005428146\n",
      "1.6989700043360187\n",
      "148.4131591025766\n",
      "729.0\n",
      "10\n",
      "120\n",
      "3.141592653589793\n"
     ]
    }
   ],
   "source": [
    "print(m.log(50))\n",
    "print(m.log10(50))\n",
    "print(m.exp(5))\n",
    "print(m.pow(3,6))\n",
    "print(m.lcm(10,5))\n",
    "print(m.factorial(5))\n",
    "print(m.pi)"
   ]
  },
  {
   "cell_type": "code",
   "execution_count": 85,
   "id": "27255766-4324-4770-b683-1e29409c4d1d",
   "metadata": {},
   "outputs": [
    {
     "name": "stdout",
     "output_type": "stream",
     "text": [
      "True\n",
      "False\n"
     ]
    }
   ],
   "source": [
    "def sum1(n):\n",
    "    return n%2==0\n",
    "print(sum1(10))\n",
    "print(sum1(11))"
   ]
  },
  {
   "cell_type": "code",
   "execution_count": 95,
   "id": "71b9d5ca-9905-4a60-80ea-1183e4040dc0",
   "metadata": {},
   "outputs": [
    {
     "name": "stdout",
     "output_type": "stream",
     "text": [
      "[10, 12, 14, 16]\n"
     ]
    }
   ],
   "source": [
    "def sum1(n):\n",
    "    return n%2==0\n",
    "list1 = [10,11,12,13,14,16,17]\n",
    "print(list(filter(sum1,list1)))"
   ]
  },
  {
   "cell_type": "code",
   "execution_count": 101,
   "id": "59b8f6ab-2ab6-4237-9000-e5290dd460ad",
   "metadata": {},
   "outputs": [
    {
     "name": "stdout",
     "output_type": "stream",
     "text": [
      "[]\n"
     ]
    }
   ],
   "source": [
    "def sum1(n):\n",
    "    return 0\n",
    "list1 = [10,11,12,13,14,16,17]\n",
    "print(list(filter(sum1,list1)))"
   ]
  },
  {
   "cell_type": "code",
   "execution_count": 105,
   "id": "74ce3046-6d1e-4674-98c5-f580d04c06c2",
   "metadata": {},
   "outputs": [
    {
     "name": "stdout",
     "output_type": "stream",
     "text": [
      "[10, 11, 12, 14, 15, 16, 17]\n"
     ]
    }
   ],
   "source": [
    "def sum1(n):\n",
    "    return 4\n",
    "list1 = [10,11,12,14,15,16,17]\n",
    "print(list(filter(sum1,list1)))"
   ]
  },
  {
   "cell_type": "code",
   "execution_count": 107,
   "id": "c813e62d-3fca-4b4c-ac73-2c47c2f95f66",
   "metadata": {},
   "outputs": [
    {
     "name": "stdout",
     "output_type": "stream",
     "text": [
      "[10, 12, 14, 16]\n"
     ]
    }
   ],
   "source": [
    "def sum1(n):\n",
    "    return n%2==0\n",
    "list1 = [10,11,12,13,14,15,16]\n",
    "print(list(filter(square1,list1)))"
   ]
  },
  {
   "cell_type": "code",
   "execution_count": 1,
   "id": "49d83f01-40bb-42b1-b09c-e2312cc5b15e",
   "metadata": {},
   "outputs": [
    {
     "name": "stdout",
     "output_type": "stream",
     "text": [
      "<map object at 0x000001FBE996E560>\n",
      "[125, 512, 39304, 343]\n"
     ]
    }
   ],
   "source": [
    "def cube1(x):\n",
    "    return x*x*x\n",
    "cube1(5)\n",
    "list1 = [5,8,34,7]\n",
    "print(map(cube1, list1))\n",
    "x = list(map(cube1,list1))\n",
    "print(x)"
   ]
  },
  {
   "cell_type": "code",
   "execution_count": 9,
   "id": "eb4a8d39-a9a2-4979-b27b-594353b2dcc2",
   "metadata": {},
   "outputs": [
    {
     "name": "stdout",
     "output_type": "stream",
     "text": [
      "8\n"
     ]
    }
   ],
   "source": [
    "def square(x):\n",
    "    return x*x*x\n",
    "print(square(2))"
   ]
  },
  {
   "cell_type": "code",
   "execution_count": 17,
   "id": "6434c170-9090-42c1-b230-cec05c81cdbe",
   "metadata": {},
   "outputs": [
    {
     "name": "stdout",
     "output_type": "stream",
     "text": [
      "8\n",
      "<map object at 0x000001FBECB653F0>\n",
      "[1000, 8000, 27000, 64000, 125000, 216000]\n"
     ]
    }
   ],
   "source": [
    "def square(x):\n",
    "    return x*x*x\n",
    "print(square(2))\n",
    "list1 = [10,20,30,40,50,60,]\n",
    "print(map(square, list1))\n",
    "print(list(map(square, list1)))"
   ]
  },
  {
   "cell_type": "code",
   "execution_count": 31,
   "id": "ed529323-70f5-43a5-9b00-d67a27309dbf",
   "metadata": {},
   "outputs": [
    {
     "name": "stdout",
     "output_type": "stream",
     "text": [
      "[3.1622776601683795, 4.47213595499958, 5.477225575051661, 6.324555320336759, 7.0710678118654755, 7.745966692414834]\n"
     ]
    }
   ],
   "source": [
    "print(list(map(m.sqrt, list1)))"
   ]
  },
  {
   "cell_type": "code",
   "execution_count": 33,
   "id": "6007b5b7-48fb-4d63-a7c9-43d4810c343d",
   "metadata": {},
   "outputs": [
    {
     "name": "stdout",
     "output_type": "stream",
     "text": [
      "8\n",
      "<map object at 0x000001FBECB67340>\n",
      "[1, 8, 27, 64, 125, 216, 343, 512, 729]\n"
     ]
    }
   ],
   "source": [
    "def square(x):\n",
    "    return x*x*x\n",
    "print(square(2))\n",
    "list1 = [10,20,30,40,50,60,]\n",
    "print(map(square,range(1,10)))\n",
    "print(list(map(square,range(1,10))))"
   ]
  },
  {
   "cell_type": "code",
   "execution_count": 29,
   "id": "760d5084-5063-4396-8e2a-6dce7112a9c1",
   "metadata": {},
   "outputs": [
    {
     "data": {
      "text/plain": [
       "['__doc__',\n",
       " '__loader__',\n",
       " '__name__',\n",
       " '__package__',\n",
       " '__spec__',\n",
       " 'acos',\n",
       " 'acosh',\n",
       " 'asin',\n",
       " 'asinh',\n",
       " 'atan',\n",
       " 'atan2',\n",
       " 'atanh',\n",
       " 'cbrt',\n",
       " 'ceil',\n",
       " 'comb',\n",
       " 'copysign',\n",
       " 'cos',\n",
       " 'cosh',\n",
       " 'degrees',\n",
       " 'dist',\n",
       " 'e',\n",
       " 'erf',\n",
       " 'erfc',\n",
       " 'exp',\n",
       " 'exp2',\n",
       " 'expm1',\n",
       " 'fabs',\n",
       " 'factorial',\n",
       " 'floor',\n",
       " 'fmod',\n",
       " 'frexp',\n",
       " 'fsum',\n",
       " 'gamma',\n",
       " 'gcd',\n",
       " 'hypot',\n",
       " 'inf',\n",
       " 'isclose',\n",
       " 'isfinite',\n",
       " 'isinf',\n",
       " 'isnan',\n",
       " 'isqrt',\n",
       " 'lcm',\n",
       " 'ldexp',\n",
       " 'lgamma',\n",
       " 'log',\n",
       " 'log10',\n",
       " 'log1p',\n",
       " 'log2',\n",
       " 'modf',\n",
       " 'nan',\n",
       " 'nextafter',\n",
       " 'perm',\n",
       " 'pi',\n",
       " 'pow',\n",
       " 'prod',\n",
       " 'radians',\n",
       " 'remainder',\n",
       " 'sin',\n",
       " 'sinh',\n",
       " 'sqrt',\n",
       " 'sumprod',\n",
       " 'tan',\n",
       " 'tanh',\n",
       " 'tau',\n",
       " 'trunc',\n",
       " 'ulp']"
      ]
     },
     "execution_count": 29,
     "metadata": {},
     "output_type": "execute_result"
    }
   ],
   "source": [
    "import math as m\n",
    "dir(m)"
   ]
  },
  {
   "cell_type": "code",
   "execution_count": 25,
   "id": "1bf8b160-0e64-40ce-8cac-12f086f8aede",
   "metadata": {},
   "outputs": [
    {
     "name": "stdout",
     "output_type": "stream",
     "text": [
      "2.302585092994046\n",
      "1.0\n",
      "3.1622776601683795\n"
     ]
    }
   ],
   "source": [
    "print(m.log(10))\n",
    "print(m.log10(10))\n",
    "print(m.sqrt(10))"
   ]
  },
  {
   "cell_type": "code",
   "execution_count": 35,
   "id": "0cd816f4-e9c9-4df6-9f46-c49c6037ef66",
   "metadata": {},
   "outputs": [
    {
     "name": "stdout",
     "output_type": "stream",
     "text": [
      "[1, 2, 3, 4, 5, 6, 7, 8]\n"
     ]
    }
   ],
   "source": [
    "def sum1(x):\n",
    "    return x\n",
    "list1 = [1,2,3,4,5,6,7,8]\n",
    "print(list(filter(sum1,list1)))"
   ]
  },
  {
   "cell_type": "code",
   "execution_count": 39,
   "id": "bf9ac930-52b4-4694-a754-f6ff800e9104",
   "metadata": {},
   "outputs": [
    {
     "name": "stdout",
     "output_type": "stream",
     "text": [
      "[2, 4, 6, 8]\n"
     ]
    }
   ],
   "source": [
    "def sum1(x):\n",
    "    return x%2==0\n",
    "list1 = [1,2,3,4,5,6,7,8]\n",
    "print(list(filter(sum1,list1)))"
   ]
  },
  {
   "cell_type": "code",
   "execution_count": 45,
   "id": "233e01c1-4181-417e-95fa-a204b86d075f",
   "metadata": {},
   "outputs": [
    {
     "name": "stdout",
     "output_type": "stream",
     "text": [
      "<function <lambda> at 0x000001FBEC94B240>\n"
     ]
    }
   ],
   "source": [
    "x = lambda y : y * y\n",
    "print(x)"
   ]
  },
  {
   "cell_type": "code",
   "execution_count": 51,
   "id": "71b3ef78-3f05-4e7b-a017-4891f032ec87",
   "metadata": {},
   "outputs": [
    {
     "name": "stdout",
     "output_type": "stream",
     "text": [
      "4\n",
      "9\n"
     ]
    }
   ],
   "source": [
    "x = lambda y : y * y\n",
    "print(x(2))\n",
    "print(x(3))"
   ]
  },
  {
   "cell_type": "code",
   "execution_count": 53,
   "id": "eceac178-4acd-4588-b8ed-37fc164c8633",
   "metadata": {},
   "outputs": [
    {
     "ename": "NameError",
     "evalue": "name 'y' is not defined",
     "output_type": "error",
     "traceback": [
      "\u001b[1;31m---------------------------------------------------------------------------\u001b[0m",
      "\u001b[1;31mNameError\u001b[0m                                 Traceback (most recent call last)",
      "Cell \u001b[1;32mIn[53], line 2\u001b[0m\n\u001b[0;32m      1\u001b[0m x \u001b[38;5;241m=\u001b[39m \u001b[38;5;28;01mlambda\u001b[39;00m z : y \u001b[38;5;241m*\u001b[39m y\n\u001b[1;32m----> 2\u001b[0m \u001b[38;5;28mprint\u001b[39m(x(\u001b[38;5;241m2\u001b[39m))\n\u001b[0;32m      3\u001b[0m \u001b[38;5;28mprint\u001b[39m(x(\u001b[38;5;241m3\u001b[39m))\n",
      "Cell \u001b[1;32mIn[53], line 1\u001b[0m, in \u001b[0;36m<lambda>\u001b[1;34m(z)\u001b[0m\n\u001b[1;32m----> 1\u001b[0m x \u001b[38;5;241m=\u001b[39m \u001b[38;5;28;01mlambda\u001b[39;00m z : y \u001b[38;5;241m*\u001b[39m y\n\u001b[0;32m      2\u001b[0m \u001b[38;5;28mprint\u001b[39m(x(\u001b[38;5;241m2\u001b[39m))\n\u001b[0;32m      3\u001b[0m \u001b[38;5;28mprint\u001b[39m(x(\u001b[38;5;241m3\u001b[39m))\n",
      "\u001b[1;31mNameError\u001b[0m: name 'y' is not defined"
     ]
    }
   ],
   "source": [
    "x = lambda z : y * y\n",
    "print(x(2))\n",
    "print(x(3))"
   ]
  },
  {
   "cell_type": "code",
   "execution_count": 57,
   "id": "c5dc6274-96c4-4d48-ba09-ed17e816e7c0",
   "metadata": {},
   "outputs": [
    {
     "ename": "TypeError",
     "evalue": "<lambda>() missing 1 required positional argument: 'z'",
     "output_type": "error",
     "traceback": [
      "\u001b[1;31m---------------------------------------------------------------------------\u001b[0m",
      "\u001b[1;31mTypeError\u001b[0m                                 Traceback (most recent call last)",
      "Cell \u001b[1;32mIn[57], line 2\u001b[0m\n\u001b[0;32m      1\u001b[0m x \u001b[38;5;241m=\u001b[39m \u001b[38;5;28;01mlambda\u001b[39;00m y,z : y\u001b[38;5;241m+\u001b[39mz\n\u001b[1;32m----> 2\u001b[0m \u001b[38;5;28mprint\u001b[39m(x(\u001b[38;5;241m2\u001b[39m))\n\u001b[0;32m      3\u001b[0m \u001b[38;5;28mprint\u001b[39m(x(\u001b[38;5;241m3\u001b[39m))\n",
      "\u001b[1;31mTypeError\u001b[0m: <lambda>() missing 1 required positional argument: 'z'"
     ]
    }
   ],
   "source": [
    "x = lambda y,z : y+z\n",
    "print(x(2))\n",
    "print(x(3))"
   ]
  },
  {
   "cell_type": "code",
   "execution_count": 61,
   "id": "847cfb79-2204-46db-8b14-e88f6b5c9590",
   "metadata": {},
   "outputs": [
    {
     "name": "stdout",
     "output_type": "stream",
     "text": [
      "7\n"
     ]
    }
   ],
   "source": [
    "x = lambda y,z : y+z\n",
    "print(x(2,5))"
   ]
  },
  {
   "cell_type": "code",
   "execution_count": 65,
   "id": "2219e809-6586-4ee7-b0d8-634b513eda3f",
   "metadata": {},
   "outputs": [
    {
     "name": "stdout",
     "output_type": "stream",
     "text": [
      "5\n"
     ]
    }
   ],
   "source": [
    "x = lambda y,z : y if y > z else z\n",
    "print(x(2,5))"
   ]
  },
  {
   "cell_type": "code",
   "execution_count": 77,
   "id": "a58fe458-24c6-44a3-a361-f90cebd252d7",
   "metadata": {},
   "outputs": [
    {
     "name": "stdout",
     "output_type": "stream",
     "text": [
      "[100, 400, 900, 1600, 2500, 3600]\n"
     ]
    }
   ],
   "source": [
    "list1 = [10,20,30,40,50,60]\n",
    "print(list(map(lambda x: x*x, list1)))"
   ]
  },
  {
   "cell_type": "code",
   "execution_count": 79,
   "id": "e3c1a584-f6d4-4d4b-890a-50903d280e94",
   "metadata": {},
   "outputs": [
    {
     "name": "stdout",
     "output_type": "stream",
     "text": [
      "[10, 20, 30, 40, 50, 60]\n"
     ]
    }
   ],
   "source": [
    "list1 = [10,20,30,40,50,60]\n",
    "print(list(filter(lambda x: x*x, list1)))"
   ]
  },
  {
   "cell_type": "code",
   "execution_count": 83,
   "id": "c85a8660-e50c-44ab-8ed3-fd01b842462b",
   "metadata": {},
   "outputs": [
    {
     "name": "stdout",
     "output_type": "stream",
     "text": [
      "[10, 20, 40, 50, 60]\n"
     ]
    }
   ],
   "source": [
    "list1 = [10,20,33,40,50,60]\n",
    "print(list(filter(lambda x: x%2==0, list1)))"
   ]
  },
  {
   "cell_type": "code",
   "execution_count": 99,
   "id": "1b1bd86a-2359-4015-b6ff-d8589731faf3",
   "metadata": {},
   "outputs": [
    {
     "name": "stdout",
     "output_type": "stream",
     "text": [
      "40\n"
     ]
    }
   ],
   "source": [
    "import functools as ft\n",
    "list1= [1,2,4,5]\n",
    "print(ft.reduce(lambda a, b: a*b, list1))"
   ]
  },
  {
   "cell_type": "code",
   "execution_count": 101,
   "id": "9b1792b3-c20c-4e05-9c40-1bdf3ef4c97d",
   "metadata": {},
   "outputs": [
    {
     "name": "stdout",
     "output_type": "stream",
     "text": [
      "12\n"
     ]
    }
   ],
   "source": [
    "import functools as ft\n",
    "list1= [1,2,4,5]\n",
    "print(ft.reduce(lambda a, b: a+b, list1))"
   ]
  },
  {
   "cell_type": "code",
   "execution_count": 103,
   "id": "fbcc92b0-f2f8-4a20-a77a-831af81a90d6",
   "metadata": {},
   "outputs": [
    {
     "name": "stdout",
     "output_type": "stream",
     "text": [
      "5\n"
     ]
    }
   ],
   "source": [
    "import functools as ft\n",
    "list1= [1,2,4,5]\n",
    "print(ft.reduce(lambda a, b: a if a>b else b, list1))"
   ]
  },
  {
   "cell_type": "code",
   "execution_count": 2,
   "id": "a30318eb-c4bd-4d69-a3ec-3224e7b68594",
   "metadata": {},
   "outputs": [
    {
     "name": "stdout",
     "output_type": "stream",
     "text": [
      "<function <lambda> at 0x000002464CB43240>\n"
     ]
    }
   ],
   "source": [
    "x=lambda x,y,z : x if x>y and x>z  else y if y>z else z\n",
    "print(x)"
   ]
  },
  {
   "cell_type": "code",
   "execution_count": 7,
   "id": "6e906c8a-e9d6-456a-8b7d-a4de7c7506ef",
   "metadata": {},
   "outputs": [
    {
     "ename": "SyntaxError",
     "evalue": "cannot assign to literal (2638253844.py, line 1)",
     "output_type": "error",
     "traceback": [
      "\u001b[1;36m  Cell \u001b[1;32mIn[7], line 1\u001b[1;36m\u001b[0m\n\u001b[1;33m    a=2=3\u001b[0m\n\u001b[1;37m      ^\u001b[0m\n\u001b[1;31mSyntaxError\u001b[0m\u001b[1;31m:\u001b[0m cannot assign to literal\n"
     ]
    }
   ],
   "source": [
    "a=2=3\n",
    "print(a)"
   ]
  },
  {
   "cell_type": "code",
   "execution_count": 13,
   "id": "707b8938-4f9f-486c-b98a-478358b22295",
   "metadata": {},
   "outputs": [
    {
     "name": "stdout",
     "output_type": "stream",
     "text": [
      "False\n",
      "<class 'bool'>\n"
     ]
    }
   ],
   "source": [
    "a=2==5\n",
    "print(a)\n",
    "print(type(a))"
   ]
  },
  {
   "cell_type": "code",
   "execution_count": 17,
   "id": "cfa6d5fa-9446-4d99-a582-21e0189f6d57",
   "metadata": {},
   "outputs": [
    {
     "name": "stdout",
     "output_type": "stream",
     "text": [
      "2\n",
      "None\n",
      "<class 'NoneType'>\n"
     ]
    }
   ],
   "source": [
    "a=2\n",
    "a=print(a)\n",
    "print(a)\n",
    "print(type(a))"
   ]
  },
  {
   "cell_type": "code",
   "execution_count": 19,
   "id": "0f065f7b-6a82-43cc-9e61-69267fdbf8a5",
   "metadata": {},
   "outputs": [
    {
     "name": "stdout",
     "output_type": "stream",
     "text": [
      "20\n"
     ]
    }
   ],
   "source": [
    "a=10\n",
    "a += 10\n",
    "print(a)"
   ]
  },
  {
   "cell_type": "code",
   "execution_count": 21,
   "id": "fa50db98-4207-4199-9eef-2fe102bfd0cd",
   "metadata": {},
   "outputs": [
    {
     "name": "stdout",
     "output_type": "stream",
     "text": [
      "5.0\n"
     ]
    }
   ],
   "source": [
    "a=10\n",
    "a /= 2\n",
    "print(a)"
   ]
  },
  {
   "cell_type": "code",
   "execution_count": 23,
   "id": "b8b8fa46-36ee-47a6-aaf0-4ce934213521",
   "metadata": {},
   "outputs": [
    {
     "name": "stdout",
     "output_type": "stream",
     "text": [
      "5.0\n",
      "5\n"
     ]
    }
   ],
   "source": [
    "a=10\n",
    "a /= 2\n",
    "print(a)\n",
    "a=10\n",
    "a //= 2\n",
    "print(a)"
   ]
  },
  {
   "cell_type": "code",
   "execution_count": 25,
   "id": "b7abf156-c28b-4356-bd41-33bda1eb6fb0",
   "metadata": {},
   "outputs": [
    {
     "name": "stdout",
     "output_type": "stream",
     "text": [
      "True\n"
     ]
    }
   ],
   "source": [
    "a=10\n",
    "b=20\n",
    "c=a<b\n",
    "print(c)"
   ]
  },
  {
   "cell_type": "code",
   "execution_count": 29,
   "id": "6f68abf2-ecfd-489a-a049-420ae4ae4c93",
   "metadata": {},
   "outputs": [
    {
     "name": "stdout",
     "output_type": "stream",
     "text": [
      "False\n",
      "<class 'bool'>\n"
     ]
    }
   ],
   "source": [
    "c = a<10 and b<10\n",
    "print(c)\n",
    "print(type(c))"
   ]
  },
  {
   "cell_type": "code",
   "execution_count": 31,
   "id": "27df1b15-2e30-4f1a-9f86-6ebfacc19ce8",
   "metadata": {},
   "outputs": [
    {
     "name": "stdout",
     "output_type": "stream",
     "text": [
      "False\n",
      "<class 'bool'>\n"
     ]
    }
   ],
   "source": [
    "c = a<10 or b<10 and a<5\n",
    "print(c)\n",
    "print(type(c))"
   ]
  },
  {
   "cell_type": "code",
   "execution_count": 33,
   "id": "e6fe703f-59d1-4385-b0e7-3739fa81ea20",
   "metadata": {},
   "outputs": [
    {
     "name": "stdout",
     "output_type": "stream",
     "text": [
      "True\n",
      "<class 'bool'>\n"
     ]
    }
   ],
   "source": [
    "c= a<50 and b<10 or a<20\n",
    "print(c)\n",
    "print(type(c))"
   ]
  },
  {
   "cell_type": "code",
   "execution_count": 35,
   "id": "1590c610-5ab1-40e1-9e23-080c0f373544",
   "metadata": {},
   "outputs": [
    {
     "name": "stdout",
     "output_type": "stream",
     "text": [
      "True\n",
      "<class 'bool'>\n"
     ]
    }
   ],
   "source": [
    "c = a<5 or b<50 and a<50\n",
    "print(c)\n",
    "print(type(c))"
   ]
  },
  {
   "cell_type": "code",
   "execution_count": 37,
   "id": "0fd2586b-de1e-4fa3-83ab-f747fa3ee8fd",
   "metadata": {},
   "outputs": [
    {
     "name": "stdout",
     "output_type": "stream",
     "text": [
      "False\n",
      "<class 'bool'>\n",
      "True\n",
      "<class 'bool'>\n"
     ]
    }
   ],
   "source": [
    "c = not a\n",
    "print(c)\n",
    "print(type(c))\n",
    "c = not c\n",
    "print(c)\n",
    "print(type(c))"
   ]
  },
  {
   "cell_type": "code",
   "execution_count": 39,
   "id": "484c054a-8183-43ec-8b1b-d20e25cfd621",
   "metadata": {},
   "outputs": [
    {
     "name": "stdout",
     "output_type": "stream",
     "text": [
      "False\n",
      "<class 'bool'>\n",
      "True\n",
      "<class 'bool'>\n"
     ]
    }
   ],
   "source": [
    "a=50\n",
    "c = not a\n",
    "print(c)\n",
    "print(type(c))\n",
    "c = not c\n",
    "print(c)\n",
    "print(type(c))"
   ]
  },
  {
   "cell_type": "code",
   "execution_count": 41,
   "id": "bfe943f6-ca4c-4621-b69d-c81fc0b9c2ca",
   "metadata": {},
   "outputs": [
    {
     "name": "stdout",
     "output_type": "stream",
     "text": [
      "True\n",
      "<class 'bool'>\n",
      "False\n",
      "<class 'bool'>\n"
     ]
    }
   ],
   "source": [
    "a=0\n",
    "c = not a\n",
    "print(c)\n",
    "print(type(c))\n",
    "c = not c\n",
    "print(c)\n",
    "print(type(c))"
   ]
  },
  {
   "cell_type": "code",
   "execution_count": 51,
   "id": "fc8aa014-e41d-4200-ba65-aa8f109b8c75",
   "metadata": {},
   "outputs": [
    {
     "name": "stdout",
     "output_type": "stream",
     "text": [
      "False\n",
      "True\n",
      "True\n",
      "[1, 2]\n",
      "[1, 2]\n",
      "[1, 2]\n"
     ]
    }
   ],
   "source": [
    "a = [1,2]\n",
    "b = [1,2]\n",
    "c = a\n",
    "print(a is b)\n",
    "print(a is c)\n",
    "print(a==b)\n",
    "print(a)\n",
    "print(b)\n",
    "print(c)"
   ]
  },
  {
   "cell_type": "code",
   "execution_count": 49,
   "id": "4f4a8e2e-b28d-4106-8f8c-dfcc8ad3e608",
   "metadata": {},
   "outputs": [
    {
     "name": "stdout",
     "output_type": "stream",
     "text": [
      "True\n",
      "True\n",
      "True\n",
      "5\n",
      "5\n",
      "5\n"
     ]
    }
   ],
   "source": [
    "a = 5\n",
    "b = 5\n",
    "c = a\n",
    "print(a is b)\n",
    "print(a is c)\n",
    "print(a==b)\n",
    "print(a)\n",
    "print(b)\n",
    "print(c)"
   ]
  },
  {
   "cell_type": "code",
   "execution_count": 53,
   "id": "ba126b6b-27fe-47d5-9a4f-fdde8f6d46fd",
   "metadata": {},
   "outputs": [
    {
     "name": "stdout",
     "output_type": "stream",
     "text": [
      "True\n"
     ]
    }
   ],
   "source": [
    "x=3\n",
    "y=3\n",
    "print(x is y)"
   ]
  },
  {
   "cell_type": "code",
   "execution_count": 55,
   "id": "70219943-6bed-4c39-bff9-d4bf219c7aa6",
   "metadata": {},
   "outputs": [
    {
     "name": "stdout",
     "output_type": "stream",
     "text": [
      "False\n"
     ]
    }
   ],
   "source": [
    "x = 3\n",
    "y = [1,2,3,4,5,6]\n",
    "z = x not in y\n",
    "print(z)"
   ]
  },
  {
   "cell_type": "code",
   "execution_count": 57,
   "id": "0511bcfe-91d2-4b51-ad91-d3fc4ebfa098",
   "metadata": {},
   "outputs": [
    {
     "name": "stdout",
     "output_type": "stream",
     "text": [
      "False\n"
     ]
    }
   ],
   "source": [
    "x = [3,4]\n",
    "y = [1,2,3,4,5,6]\n",
    "z = x in y\n",
    "print(z)"
   ]
  },
  {
   "cell_type": "code",
   "execution_count": 65,
   "id": "bcbbda24-fd8e-4f5f-8db1-594ce1b11f54",
   "metadata": {},
   "outputs": [
    {
     "name": "stdout",
     "output_type": "stream",
     "text": [
      "0\n"
     ]
    }
   ],
   "source": [
    "a=10\n",
    "b=20\n",
    "print(a & b)"
   ]
  },
  {
   "cell_type": "code",
   "execution_count": 67,
   "id": "de18af89-6eaf-4e6c-8dbc-1a3fcc1434ea",
   "metadata": {},
   "outputs": [
    {
     "name": "stdout",
     "output_type": "stream",
     "text": [
      "13\n"
     ]
    }
   ],
   "source": [
    "a=13\n",
    "b=13\n",
    "print(a & b)"
   ]
  },
  {
   "cell_type": "code",
   "execution_count": 69,
   "id": "a8616cfe-d54b-473b-baaa-f78e10c6e21b",
   "metadata": {},
   "outputs": [
    {
     "name": "stdout",
     "output_type": "stream",
     "text": [
      "12\n"
     ]
    }
   ],
   "source": [
    "a=13\n",
    "b=12\n",
    "print(a & b)"
   ]
  },
  {
   "cell_type": "code",
   "execution_count": 71,
   "id": "4e10574e-b413-43e8-a6e9-85965871e06c",
   "metadata": {},
   "outputs": [
    {
     "name": "stdout",
     "output_type": "stream",
     "text": [
      "64\n"
     ]
    }
   ],
   "source": [
    "a=100\n",
    "b=200\n",
    "print(a & b)"
   ]
  },
  {
   "cell_type": "code",
   "execution_count": 77,
   "id": "a14cd3b0-1642-47f2-945f-87cd560053ef",
   "metadata": {},
   "outputs": [
    {
     "name": "stdout",
     "output_type": "stream",
     "text": [
      "236\n"
     ]
    }
   ],
   "source": [
    "a=100\n",
    "b=200\n",
    "print(a | b)"
   ]
  },
  {
   "cell_type": "code",
   "execution_count": 79,
   "id": "2c6a2d8a-f97f-4220-a00d-5fdaae97884e",
   "metadata": {},
   "outputs": [
    {
     "name": "stdout",
     "output_type": "stream",
     "text": [
      "172\n"
     ]
    }
   ],
   "source": [
    "a=100\n",
    "b=200\n",
    "print(a^b)"
   ]
  },
  {
   "cell_type": "code",
   "execution_count": 20,
   "id": "09b918e5-25e3-4497-b938-ece7dbed38b7",
   "metadata": {},
   "outputs": [
    {
     "name": "stdout",
     "output_type": "stream",
     "text": [
      "20\n",
      "5\n"
     ]
    }
   ],
   "source": [
    "a=10\n",
    "print(a<<1)\n",
    "a=10\n",
    "print(a>>1)"
   ]
  },
  {
   "cell_type": "code",
   "execution_count": 33,
   "id": "9bcb1c94-9d80-463a-8f5f-84572dc4385a",
   "metadata": {},
   "outputs": [
    {
     "name": "stdout",
     "output_type": "stream",
     "text": [
      "[0, 0, 0, 0, 0]\n"
     ]
    }
   ],
   "source": [
    "rows = 5\n",
    "x = [0] * rows\n",
    "print(x)"
   ]
  },
  {
   "cell_type": "code",
   "execution_count": 30,
   "id": "7fd0936d-14c5-4881-969c-6ea31fb7be05",
   "metadata": {},
   "outputs": [
    {
     "name": "stdout",
     "output_type": "stream",
     "text": [
      "[[0, 0, 0, 0, 0], [0, 0, 0, 0, 0], [0, 0, 0, 0, 0], [0, 0, 0, 0, 0], [0, 0, 0, 0, 0]]\n"
     ]
    }
   ],
   "source": [
    "rows, col = (5,5)\n",
    "x = [[0] * col] * rows\n",
    "print(x)"
   ]
  },
  {
   "cell_type": "code",
   "execution_count": 26,
   "id": "d5edb634-5dca-4a0f-830a-34c90d37cc53",
   "metadata": {},
   "outputs": [
    {
     "name": "stdout",
     "output_type": "stream",
     "text": [
      "[0, 0, 0, 0]\n",
      "[[0, 0, 0, 0], [0, 0, 0, 0], [0, 0, 0, 0], [0, 0, 0, 0], [0, 0, 0, 0]]\n"
     ]
    }
   ],
   "source": [
    "list1 = [0 for x in range(rows)]\n",
    "print(list1)\n",
    "rows, col = (4,5)\n",
    "list2 = [[0 for x in range(rows)] for j in range(col)]\n",
    "print(list2)"
   ]
  },
  {
   "cell_type": "code",
   "execution_count": 23,
   "id": "2c557f40-4bcc-42e7-a304-44e001aea473",
   "metadata": {},
   "outputs": [
    {
     "name": "stdout",
     "output_type": "stream",
     "text": [
      "[0, 0, 0, 0, 0]\n",
      "[[0, 0, 0, 0], [0, 0, 0, 0], [0, 0, 0, 0], [0, 0, 0, 0], [0, 0, 0, 0]]\n"
     ]
    }
   ],
   "source": [
    "list1 = [0 for x in range(rows)]\n",
    "print(list1)\n",
    "rows, col = (4,5)\n",
    "list2 = [[0 for x in range(rows)] for j in range(col)]\n",
    "print(list2)"
   ]
  },
  {
   "cell_type": "code",
   "execution_count": 18,
   "id": "f295a7e1-d3ff-4748-a97a-0052fbb6bcf4",
   "metadata": {},
   "outputs": [
    {
     "name": "stdout",
     "output_type": "stream",
     "text": [
      "[[0, 0, 0, 0, 0], [0, 0, 0, 0, 0], [0, 0, 0, 0, 0], [0, 0, 0, 0, 0], [0, 0, 0, 0, 0]]\n",
      "[[0, 0, 0, 0, 0], [0, 0, 0, 0, 0], [0, 0, 0, 0, 0], [0, 0, 0, 0, 0], [0, 0, 0, 0, 0]]\n",
      "[[1, 0, 0, 0, 0], [1, 0, 0, 0, 0], [1, 0, 0, 0, 0], [1, 0, 0, 0, 0], [1, 0, 0, 0, 0]]\n",
      "[[1, 0, 0, 0, 0], [0, 0, 0, 0, 0], [0, 0, 0, 0, 0], [0, 0, 0, 0, 0], [0, 0, 0, 0, 0]]\n",
      "True\n",
      "False\n",
      "False\n",
      "False\n",
      "[[1, 0, 0, 0, 0], [3, 0, 0, 0, 0], [0, 0, 0, 0, 0], [0, 0, 0, 0, 0], [0, 0, 0, 0, 0]]\n",
      "[[2, 0, 0, 0, 0], [2, 0, 0, 0, 0], [2, 0, 0, 0, 0], [2, 0, 0, 0, 0], [2, 0, 0, 0, 0]]\n"
     ]
    }
   ],
   "source": [
    "rows, col = [5,5]\n",
    "list1 = [[0]* col]* rows\n",
    "print(list1)\n",
    "list2 = [[0 for x in range(rows)] for j in range(col)]\n",
    "print(list2)\n",
    "list1[0][0] = 1\n",
    "list2[0][0] = 1\n",
    "print(list1)\n",
    "print(list2)\n",
    "print(list1[0] is list1[1])\n",
    "print(list2[0] is list2[1])\n",
    "list2[1][0] = 3\n",
    "print(list1[0][0] is list1[0][1])\n",
    "print(list2[1][0] is list2[1][1])\n",
    "print(list2)\n",
    "list1[1][0] = 2\n",
    "print(list1)"
   ]
  },
  {
   "cell_type": "code",
   "execution_count": 15,
   "id": "1cf78d1d-db43-4b26-b8a1-9507273715cc",
   "metadata": {},
   "outputs": [
    {
     "name": "stdout",
     "output_type": "stream",
     "text": [
      "[0, 0, 0, 0, 0]\n",
      "[0, 0, 0, 0, 0]\n",
      "[1, 0, 0, 0, 0]\n",
      "[1, 0, 0, 0, 0]\n",
      "False\n",
      "False\n"
     ]
    }
   ],
   "source": [
    "rows = 5\n",
    "list1 = [0]* rows\n",
    "print(list1)\n",
    "list2 = [0 for x in range(rows)]\n",
    "print(list2)\n",
    "list1[0] = 1\n",
    "list2[0] = 1\n",
    "print(list1)\n",
    "print(list2)\n",
    "print(list1[0] is list1[1])\n",
    "print(list2[0] is list2[1])"
   ]
  },
  {
   "cell_type": "code",
   "execution_count": 12,
   "id": "58754347-d173-409b-9604-b079773a3252",
   "metadata": {},
   "outputs": [
    {
     "name": "stdout",
     "output_type": "stream",
     "text": [
      "[[9, 9, 9, 9, 9], [9, 9, 9, 9, 9], [9, 9, 9, 9, 9], [9, 9, 9, 9, 9], [9, 9, 9, 9, 9]]\n",
      "[[9, 9, 9, 9, 9], [9, 9, 9, 9, 9], [9, 9, 9, 9, 9], [9, 9, 9, 9, 9], [9, 9, 9, 9, 9]]\n",
      "[[9, 9, 9, 9, 9], [9, 9, 3, 9, 9], [9, 9, 9, 9, 9], [9, 9, 9, 9, 9], [9, 9, 9, 9, 9]]\n",
      "[[9, 9, 9, 9, 9], [9, 9, 9, 9, 9], [9, 9, 9, 9, 9], [9, 9, 9, 9, 9], [4, 9, 9, 9, 9]]\n"
     ]
    }
   ],
   "source": [
    "rows, col = 5,5\n",
    "list1 = [[9 for x in range(rows)] for j in range(col)]\n",
    "print(list1)\n",
    "list2 = [[9 for x in range(rows)] for j in range(col)]\n",
    "print(list2)\n",
    "list1[1][2] = 3\n",
    "list2[4][0] = 4\n",
    "print(list1)\n",
    "print(list2)"
   ]
  },
  {
   "cell_type": "code",
   "execution_count": 9,
   "id": "7f7c45b1-ec64-4bce-bc33-7dd8ea64374d",
   "metadata": {},
   "outputs": [
    {
     "name": "stdout",
     "output_type": "stream",
     "text": [
      "[[24, 24, 24, 24, 24], [24, 24, 24, 24, 24], [24, 24, 24, 24, 24], [24, 24, 24, 24, 24], [24, 24, 24, 24, 24]]\n",
      "600\n"
     ]
    }
   ],
   "source": [
    "rows, col = 5,5\n",
    "list1 = [[24 for x in range(rows)] for j in range(col)]\n",
    "\n",
    "print (list1)\n",
    "\n",
    "sum1 = 0\n",
    "for i in list1:\n",
    "    for j in i:\n",
    "        sum1 += j\n",
    "print(sum1)\n",
    "    "
   ]
  },
  {
   "cell_type": "code",
   "execution_count": 3,
   "id": "26f139bd-ede0-407b-a7f7-67b3e1d774e9",
   "metadata": {},
   "outputs": [
    {
     "ename": "TypeError",
     "evalue": "'int' object is not iterable",
     "output_type": "error",
     "traceback": [
      "\u001b[1;31m---------------------------------------------------------------------------\u001b[0m",
      "\u001b[1;31mTypeError\u001b[0m                                 Traceback (most recent call last)",
      "Cell \u001b[1;32mIn[3], line 5\u001b[0m\n\u001b[0;32m      3\u001b[0m \u001b[38;5;28msum\u001b[39m \u001b[38;5;241m=\u001b[39m \u001b[38;5;241m0\u001b[39m\n\u001b[0;32m      4\u001b[0m list1 \u001b[38;5;241m=\u001b[39m [[\u001b[38;5;241m1\u001b[39m,\u001b[38;5;241m2\u001b[39m,\u001b[38;5;241m3\u001b[39m], [\u001b[38;5;241m7\u001b[39m,\u001b[38;5;241m9\u001b[39m,\u001b[38;5;241m2\u001b[39m]]\n\u001b[1;32m----> 5\u001b[0m \u001b[38;5;28;01mfor\u001b[39;00m x \u001b[38;5;129;01min\u001b[39;00m rows:\n\u001b[0;32m      6\u001b[0m     \u001b[38;5;28;01mfor\u001b[39;00m y \u001b[38;5;129;01min\u001b[39;00m cols:\n\u001b[0;32m      7\u001b[0m         \u001b[38;5;28mprint\u001b[39m(\u001b[38;5;28mlist\u001b[39m[x][y])\n",
      "\u001b[1;31mTypeError\u001b[0m: 'int' object is not iterable"
     ]
    }
   ],
   "source": [
    "rows = 2\n",
    "cols = 3\n",
    "sum = 0\n",
    "list1 = [[1,2,3], [7,9,2]]\n",
    "for x in rows:\n",
    "    for y in cols:\n",
    "        print(list[x][y])\n",
    "print(sum)"
   ]
  },
  {
   "cell_type": "code",
   "execution_count": 5,
   "id": "5d7dd968-1f05-4fb2-a123-7ad695c319ff",
   "metadata": {},
   "outputs": [
    {
     "name": "stdout",
     "output_type": "stream",
     "text": [
      "1\n",
      "2\n",
      "3\n",
      "7\n",
      "9\n",
      "2\n",
      "24\n"
     ]
    }
   ],
   "source": [
    "rows = 2\n",
    "cols = 3\n",
    "sum = 0\n",
    "list1 = [[1,2,3], [7,9,2]]\n",
    "for x in range(rows):\n",
    "    for y in range(cols):\n",
    "        sum += list1[x][y]\n",
    "        print(list1[x][y])\n",
    "print(sum)"
   ]
  },
  {
   "cell_type": "code",
   "execution_count": 44,
   "id": "45e0e5be-cd46-48e5-9adb-f3fbba0e8f92",
   "metadata": {},
   "outputs": [
    {
     "name": "stdout",
     "output_type": "stream",
     "text": [
      "[[1, 2, 3], [4, 5, 6], [7, 8, 9]]\n",
      "1 2 3 6\n",
      "4 5 6 15\n",
      "7 8 9 24\n",
      "total sum 45\n"
     ]
    }
   ],
   "source": [
    "m,n = 3,3\n",
    "list1 = [[1,2,3],[4,5,6],[7,8,9]]\n",
    "print(list1)\n",
    "sum2 = 0\n",
    "for x in range(m):\n",
    "    sum1 = 0\n",
    "    for y in range(n):\n",
    "        print(list1[x][y], end=\" \")\n",
    "        sum1 = sum1 + list1[x][y]\n",
    "        sum2 += list1[x][y]\n",
    "    print(sum1)\n",
    "print(\"total sum\", sum2)"
   ]
  },
  {
   "cell_type": "code",
   "execution_count": 84,
   "id": "6816e99d-def1-48d3-a9e9-5f45e1a12748",
   "metadata": {},
   "outputs": [
    {
     "name": "stdout",
     "output_type": "stream",
     "text": [
      "[[1, 2, 3], [4, 5, 6], [7, 8, 9]]\n",
      "1 2 3 \n",
      "4 5 6 \n",
      "7 8 9 \n",
      "12 15 18 "
     ]
    }
   ],
   "source": [
    "m,n = 3,3\n",
    "list1 = [[1,2,3],[4,5,6],[7,8,9]]\n",
    "list2=[]\n",
    "print(list1)\n",
    "for x in range(m):\n",
    "    sum1 = 0\n",
    "    for y in range(n):\n",
    "        print(list1[x][y], end =\" \")\n",
    "        sum1 += list1[y][x]\n",
    "    list2.append(sum1)\n",
    "    print()\n",
    "for x in list2:\n",
    "    print(x, end=\" \")"
   ]
  },
  {
   "cell_type": "code",
   "execution_count": 112,
   "id": "e82bae83-6bcf-4eb9-8b41-7d3408610c5c",
   "metadata": {},
   "outputs": [
    {
     "name": "stdout",
     "output_type": "stream",
     "text": [
      "1 2 3 \n",
      "4 5 6 \n",
      "7 8 9 \n",
      "\n",
      "2 4 6 \n",
      "3 9 10 \n",
      "15 20 30 \n",
      "\n",
      "3 6 9 \n",
      "7 14 16 \n",
      "22 28 39 \n"
     ]
    }
   ],
   "source": [
    "m,n = 3,3\n",
    "list1 = [[1,2,3],[4,5,6],[7,8,9]]\n",
    "list2 = [[2,4,6],[3,9,10],[15,20,30]]\n",
    "for x in range(m):\n",
    "    sum1 = 0 \n",
    "    for y in range(n):\n",
    "        print(list1[x][y], end = \" \")\n",
    "    print()\n",
    "print()\n",
    "for x in range(m):\n",
    "    sum2 = 0\n",
    "    for y in range(n):\n",
    "        print(list2[x][y], end= \" \")\n",
    "    print()\n",
    "print() \n",
    "for x in range(m):\n",
    "    for y in range(n):\n",
    "        print(list1[x][y] + list2[x][y], end = \" \")\n",
    "    print()"
   ]
  },
  {
   "cell_type": "code",
   "execution_count": 7,
   "id": "84b06575-363f-4ea1-924a-932ef324b717",
   "metadata": {},
   "outputs": [
    {
     "name": "stdin",
     "output_type": "stream",
     "text": [
      "enter the no. of rows 2\n",
      "enter the no. of columns 2\n"
     ]
    },
    {
     "name": "stdout",
     "output_type": "stream",
     "text": [
      "enter the rows wise values\n"
     ]
    },
    {
     "name": "stdin",
     "output_type": "stream",
     "text": [
      " 1\n",
      " 2\n",
      " 3\n",
      " 4\n"
     ]
    },
    {
     "name": "stdout",
     "output_type": "stream",
     "text": [
      "1 2 \n",
      "3 4 \n"
     ]
    }
   ],
   "source": [
    "rows=int(input(\"enter the no. of rows\"))\n",
    "columns=int(input(\"enter the no. of columns\"))\n",
    "a = []\n",
    "print(\"enter the rows wise values\")\n",
    "for x in range(rows):\n",
    "    b = []\n",
    "    for y in range(columns):\n",
    "        b.append(int(input()))\n",
    "    a.append(b)\n",
    "for x in range(rows):\n",
    "    for y in range(columns):\n",
    "        print(a[x][y], end=\" \")\n",
    "    print()"
   ]
  },
  {
   "cell_type": "code",
   "execution_count": 9,
   "id": "1615d4f3-4ed9-426c-9ba9-5eafd7a49fce",
   "metadata": {},
   "outputs": [
    {
     "name": "stdin",
     "output_type": "stream",
     "text": [
      "enter the no. of rows for matrix A 2\n",
      "enter the no. of columns for matrix A 2\n"
     ]
    },
    {
     "name": "stdout",
     "output_type": "stream",
     "text": [
      "enter the rows wise values\n"
     ]
    },
    {
     "name": "stdin",
     "output_type": "stream",
     "text": [
      " 1\n",
      " 2\n",
      " 3\n",
      " 4\n"
     ]
    },
    {
     "name": "stdout",
     "output_type": "stream",
     "text": [
      "1 2 \n",
      "3 4 \n"
     ]
    },
    {
     "name": "stdin",
     "output_type": "stream",
     "text": [
      "enter the no. of rows for matrix B 2\n",
      "enter the no. of columns for matrix B 2\n"
     ]
    },
    {
     "name": "stdout",
     "output_type": "stream",
     "text": [
      "enter the rows wise values\n"
     ]
    },
    {
     "name": "stdin",
     "output_type": "stream",
     "text": [
      " 5\n",
      " 6\n",
      " 7\n",
      " 8\n"
     ]
    },
    {
     "name": "stdout",
     "output_type": "stream",
     "text": [
      "5 6 \n",
      "7 8 \n",
      "multiplication of matrix\n",
      "19 22 \n",
      "43 50 \n"
     ]
    }
   ],
   "source": [
    "rows_a=int(input(\"enter the no. of rows for matrix A\"))\n",
    "columns_a=int(input(\"enter the no. of columns for matrix A\"))\n",
    "a = []\n",
    "print(\"enter the rows wise values\")\n",
    "for x in range(rows_a):\n",
    "    d = []\n",
    "    for y in range(columns_a):\n",
    "        d.append(int(input()))\n",
    "    a.append(d)\n",
    "for x in range(rows_a):\n",
    "    for y in range(columns_a):\n",
    "        print(a[x][y], end=\" \")\n",
    "    print()\n",
    "rows_b=int(input(\"enter the no. of rows for matrix B\"))\n",
    "columns_b=int(input(\"enter the no. of columns for matrix B\"))\n",
    "b = []\n",
    "print(\"enter the rows wise values\")\n",
    "for x in range(rows_b):\n",
    "    d = []\n",
    "    for y in range(columns_b):\n",
    "        d.append(int(input()))\n",
    "    b.append(d)\n",
    "for x in range(rows_b):\n",
    "    for y in range(columns_b):\n",
    "        print(b[x][y], end=\" \")\n",
    "    print()\n",
    "c = [[0 for x in range(columns_b)] for y in range(rows_a)]\n",
    "for x in range(rows_a):\n",
    "    for y in range(columns_b):\n",
    "        for z in range(columns_a):\n",
    "            c[x][y] += a[x][z] * b[z][y]\n",
    "print(\"multiplication of matrix\")\n",
    "for x in range(rows_a):\n",
    "    for y in range(columns_b):\n",
    "        print(c[x][y], end=\" \")\n",
    "    print()"
   ]
  },
  {
   "cell_type": "code",
   "execution_count": 1,
   "id": "1c227d0d-ab56-4c99-be00-5e7f8057b5fd",
   "metadata": {},
   "outputs": [
    {
     "name": "stdout",
     "output_type": "stream",
     "text": [
      "True\n"
     ]
    }
   ],
   "source": [
    "c=[0 for x in range(5)]\n",
    "c[0]=0\n",
    "print(c[0] is c[0])"
   ]
  },
  {
   "cell_type": "code",
   "execution_count": 5,
   "id": "e9b53372-298b-4bd5-b93e-201766e77052",
   "metadata": {},
   "outputs": [
    {
     "name": "stdout",
     "output_type": "stream",
     "text": [
      "False\n"
     ]
    }
   ],
   "source": [
    "c=[0 for x in range(5)]\n",
    "c[0]=1\n",
    "print(c[0] is c[1])"
   ]
  },
  {
   "cell_type": "code",
   "execution_count": 7,
   "id": "a468b002-8b43-4ac8-9d78-4fb3c4e52099",
   "metadata": {},
   "outputs": [
    {
     "name": "stdout",
     "output_type": "stream",
     "text": [
      "True\n"
     ]
    }
   ],
   "source": [
    "c=[0 for x in range(5)]\n",
    "c[0]=1\n",
    "print(c[3] is c[1])"
   ]
  },
  {
   "cell_type": "code",
   "execution_count": 13,
   "id": "696b3065-57b7-4f68-8c8a-b65e2c6143a1",
   "metadata": {},
   "outputs": [
    {
     "name": "stdout",
     "output_type": "stream",
     "text": [
      "True\n",
      "True\n",
      "True\n"
     ]
    }
   ],
   "source": [
    "a=2\n",
    "b=2\n",
    "c=a\n",
    "print(a==b)\n",
    "print(a is b)\n",
    "print(a is c)"
   ]
  },
  {
   "cell_type": "code",
   "execution_count": 16,
   "id": "af2cf7bb-2974-4ab5-9d95-c83456d636c6",
   "metadata": {},
   "outputs": [
    {
     "name": "stdout",
     "output_type": "stream",
     "text": [
      "[[0, 0, 0, 0, 0], [0, 0, 0, 0, 0], [0, 0, 0, 0, 0]]\n"
     ]
    }
   ],
   "source": [
    "c = [[0 for x in range(5)]for y in range(3)]\n",
    "print(c)"
   ]
  },
  {
   "cell_type": "code",
   "execution_count": 18,
   "id": "4b4ca7e5-f8d1-4f29-8093-35428280eb38",
   "metadata": {},
   "outputs": [
    {
     "name": "stdout",
     "output_type": "stream",
     "text": [
      "[0, 1, 2, 3, 4]\n",
      "[0, 2, 4, 6]\n"
     ]
    }
   ],
   "source": [
    "c = [x for x in range(5)]\n",
    "print(c)\n",
    "c = [x*2 for x in range(4)]\n",
    "print(c)"
   ]
  },
  {
   "cell_type": "code",
   "execution_count": 20,
   "id": "0362b1f4-1770-4b94-8af5-a2c8ed2c73eb",
   "metadata": {},
   "outputs": [
    {
     "ename": "SyntaxError",
     "evalue": "invalid syntax (298305850.py, line 5)",
     "output_type": "error",
     "traceback": [
      "\u001b[1;36m  Cell \u001b[1;32mIn[20], line 5\u001b[1;36m\u001b[0m\n\u001b[1;33m    c = x*2 for x in range(5)\u001b[0m\n\u001b[1;37m            ^\u001b[0m\n\u001b[1;31mSyntaxError\u001b[0m\u001b[1;31m:\u001b[0m invalid syntax\n"
     ]
    }
   ],
   "source": [
    "c = [x for x in range(5)]\n",
    "print(c)\n",
    "c = [x*2 for x in range(5)]\n",
    "print(c)\n",
    "c = x*2 for x in range(5)\n",
    "print(c)"
   ]
  },
  {
   "cell_type": "code",
   "execution_count": 27,
   "id": "68e89ac7-e9ae-4363-860c-ea9b66ceb799",
   "metadata": {},
   "outputs": [
    {
     "name": "stdin",
     "output_type": "stream",
     "text": [
      "enter the no. of rows for matrix A 2\n",
      "enter the no. of columns for matrix A 2\n"
     ]
    },
    {
     "name": "stdout",
     "output_type": "stream",
     "text": [
      "enter the rows wise values\n"
     ]
    },
    {
     "name": "stdin",
     "output_type": "stream",
     "text": [
      " 1\n",
      " 2\n",
      " 3\n",
      " 4\n"
     ]
    },
    {
     "name": "stdout",
     "output_type": "stream",
     "text": [
      "1 2 \n",
      "3 4 \n"
     ]
    },
    {
     "name": "stdin",
     "output_type": "stream",
     "text": [
      "enter the no. of rows for matrix B 2\n",
      "enter the no. of columns for matrix B 2\n"
     ]
    },
    {
     "name": "stdout",
     "output_type": "stream",
     "text": [
      "enter the rows wise values\n"
     ]
    },
    {
     "name": "stdin",
     "output_type": "stream",
     "text": [
      " 5\n",
      " 6\n",
      " 7\n",
      " 8\n"
     ]
    },
    {
     "name": "stdout",
     "output_type": "stream",
     "text": [
      "5 6 \n",
      "7 8 \n",
      "addition of matrix\n",
      "6 8 \n",
      "10 12 \n"
     ]
    }
   ],
   "source": [
    "rows_a=int(input(\"enter the no. of rows for matrix A\"))\n",
    "columns_a=int(input(\"enter the no. of columns for matrix A\"))\n",
    "a = []\n",
    "print(\"enter the rows wise values\")\n",
    "for x in range(rows_a):\n",
    "    d = []\n",
    "    for y in range(columns_a):\n",
    "        d.append(int(input()))\n",
    "    a.append(d)\n",
    "for x in range(rows_a):\n",
    "    for y in range(columns_a):\n",
    "        print(a[x][y], end=\" \")\n",
    "    print()\n",
    "rows_b=int(input(\"enter the no. of rows for matrix B\"))\n",
    "columns_b=int(input(\"enter the no. of columns for matrix B\"))\n",
    "b = []\n",
    "print(\"enter the rows wise values\")\n",
    "for x in range(rows_b):\n",
    "    d = []\n",
    "    for y in range(columns_b):\n",
    "        d.append(int(input()))\n",
    "    b.append(d)\n",
    "for x in range(rows_b):\n",
    "    for y in range(columns_b):\n",
    "        print(b[x][y], end=\" \")\n",
    "    print()\n",
    "c = [[0 for x in range(columns_b)] for y in range(rows_a)]\n",
    "for x in range(rows_a):\n",
    "    for y in range(columns_b):\n",
    "        for z in range(columns_a):\n",
    "            c[x][y] = a[x][y] + b[x][y]\n",
    "print(\"addition of matrix\")\n",
    "for x in range(rows_a):\n",
    "    for y in range(columns_b):\n",
    "        print(c[x][y], end=\" \")\n",
    "    print()"
   ]
  },
  {
   "cell_type": "code",
   "execution_count": 29,
   "id": "7f5da4c9-3576-4d32-891e-1bfd6670cba2",
   "metadata": {},
   "outputs": [
    {
     "name": "stdin",
     "output_type": "stream",
     "text": [
      "enter the no. of rows for matrix A 2\n",
      "enter the no. of columns for matrix A 2\n"
     ]
    },
    {
     "name": "stdout",
     "output_type": "stream",
     "text": [
      "enter the rows wise values\n"
     ]
    },
    {
     "name": "stdin",
     "output_type": "stream",
     "text": [
      " 1\n",
      " 2\n",
      " 3\n",
      " 4\n"
     ]
    },
    {
     "name": "stdout",
     "output_type": "stream",
     "text": [
      "1 2 \n",
      "3 4 \n"
     ]
    },
    {
     "name": "stdin",
     "output_type": "stream",
     "text": [
      "enter the no. of rows for matrix B 2\n",
      "enter the no. of columns for matrix B 2\n"
     ]
    },
    {
     "name": "stdout",
     "output_type": "stream",
     "text": [
      "enter the rows wise values\n"
     ]
    },
    {
     "name": "stdin",
     "output_type": "stream",
     "text": [
      " 5\n",
      " 6\n",
      " 7\n",
      " 8\n"
     ]
    },
    {
     "name": "stdout",
     "output_type": "stream",
     "text": [
      "5 6 \n",
      "7 8 \n",
      "subtraction of matrix\n",
      "-4 -4 \n",
      "-4 -4 \n"
     ]
    }
   ],
   "source": [
    "rows_a=int(input(\"enter the no. of rows for matrix A\"))\n",
    "columns_a=int(input(\"enter the no. of columns for matrix A\"))\n",
    "a = []\n",
    "print(\"enter the rows wise values\")\n",
    "for x in range(rows_a):\n",
    "    d = []\n",
    "    for y in range(columns_a):\n",
    "        d.append(int(input()))\n",
    "    a.append(d)\n",
    "for x in range(rows_a):\n",
    "    for y in range(columns_a):\n",
    "        print(a[x][y], end=\" \")\n",
    "    print()\n",
    "rows_b=int(input(\"enter the no. of rows for matrix B\"))\n",
    "columns_b=int(input(\"enter the no. of columns for matrix B\"))\n",
    "b = []\n",
    "print(\"enter the rows wise values\")\n",
    "for x in range(rows_b):\n",
    "    d = []\n",
    "    for y in range(columns_b):\n",
    "        d.append(int(input()))\n",
    "    b.append(d)\n",
    "for x in range(rows_b):\n",
    "    for y in range(columns_b):\n",
    "        print(b[x][y], end=\" \")\n",
    "    print()\n",
    "c = [[0 for x in range(columns_b)] for y in range(rows_a)]\n",
    "for x in range(rows_a):\n",
    "    for y in range(columns_b):\n",
    "        for z in range(columns_a):\n",
    "            c[x][y] = a[x][y] - b[x][y]\n",
    "print(\"subtraction of matrix\")\n",
    "for x in range(rows_a):\n",
    "    for y in range(columns_b):\n",
    "        print(c[x][y], end=\" \")\n",
    "    print()"
   ]
  },
  {
   "cell_type": "code",
   "execution_count": 35,
   "id": "21239a21-4183-43fc-b1e4-5d2febb28466",
   "metadata": {},
   "outputs": [
    {
     "name": "stdin",
     "output_type": "stream",
     "text": [
      "enter the no. of rows for matrix A 3\n",
      "enter the no. of columns for matrix A 3\n"
     ]
    },
    {
     "name": "stdout",
     "output_type": "stream",
     "text": [
      "enter the rows wise values\n"
     ]
    },
    {
     "name": "stdin",
     "output_type": "stream",
     "text": [
      " 1\n",
      " 2\n",
      " 3\n",
      " 4\n",
      " 5\n",
      " 6\n",
      " 7\n",
      " 8\n",
      " 9\n"
     ]
    },
    {
     "name": "stdout",
     "output_type": "stream",
     "text": [
      "1 2 3 \n",
      "4 5 6 \n",
      "7 8 9 \n",
      "15\n"
     ]
    }
   ],
   "source": [
    "rows_a=int(input(\"enter the no. of rows for matrix A\"))\n",
    "columns_a=int(input(\"enter the no. of columns for matrix A\"))\n",
    "a = []\n",
    "print(\"enter the rows wise values\")\n",
    "for x in range(rows_a):\n",
    "    d = []\n",
    "    for y in range(columns_a):\n",
    "        d.append(int(input()))\n",
    "    a.append(d)\n",
    "for x in range(rows_a):\n",
    "    for y in range(columns_a):\n",
    "        print(a[x][y], end=\" \")\n",
    "    print()\n",
    "sum1=0\n",
    "for x in range(rows_a):\n",
    "    for y in range(columns_a):\n",
    "        if x==y:\n",
    "            sum1+=a[x][y]\n",
    "print(sum1)"
   ]
  },
  {
   "cell_type": "code",
   "execution_count": 49,
   "id": "5c8b84fb-0c31-447d-81e6-3608ab4d9a83",
   "metadata": {
    "scrolled": true
   },
   "outputs": [
    {
     "name": "stdin",
     "output_type": "stream",
     "text": [
      "enter the no. of rows for matrix A 3\n",
      "enter the no. of columns for matrix A 3\n"
     ]
    },
    {
     "name": "stdout",
     "output_type": "stream",
     "text": [
      "enter the rows wise values\n"
     ]
    },
    {
     "name": "stdin",
     "output_type": "stream",
     "text": [
      " 1\n",
      " 2\n",
      " 3\n",
      " 4\n",
      " 5\n",
      " 6\n",
      " 7\n",
      " 8\n",
      " 9\n"
     ]
    },
    {
     "name": "stdout",
     "output_type": "stream",
     "text": [
      "1 2 3 \n",
      "4 5 6 \n",
      "7 8 9 \n",
      "25\n"
     ]
    }
   ],
   "source": [
    "rows_a=int(input(\"enter the no. of rows for matrix A\"))\n",
    "columns_a=int(input(\"enter the no. of columns for matrix A\"))\n",
    "a = []\n",
    "print(\"enter the rows wise values\")\n",
    "for x in range(rows_a):\n",
    "    d = []\n",
    "    for y in range(columns_a):\n",
    "        d.append(int(input()))\n",
    "    a.append(d)\n",
    "for x in range(rows_a):\n",
    "    for y in range(columns_a):\n",
    "        print(a[x][y], end=\" \")\n",
    "    print()\n",
    "sum1=0\n",
    "for x in range(rows_a):\n",
    "    for y in range(columns_a):\n",
    "        if x==y or x+y==columns_a-1:\n",
    "            sum1+=a[x][y]\n",
    "print(sum1)"
   ]
  },
  {
   "cell_type": "code",
   "execution_count": 9,
   "id": "1c4eae19-3cfb-4b12-9640-3147cc4da80b",
   "metadata": {},
   "outputs": [
    {
     "name": "stdout",
     "output_type": "stream",
     "text": [
      "he is good boy\n",
      "<class 'str'>\n",
      "he is good boy\n",
      "<class 'str'>\n",
      "hello how are you\n",
      "<class 'str'>\n",
      "hello\n",
      "how\n",
      "are you\n",
      "<class 'str'>\n"
     ]
    }
   ],
   "source": [
    "string1 = 'he is good boy'\n",
    "print(string1)\n",
    "print(type(string1))\n",
    "string2 = \"he is good boy\"\n",
    "print(string2)\n",
    "print(type(string2))\n",
    "string3 = '''hello how are you'''\n",
    "print(string3)\n",
    "print(type(string3))\n",
    "string4 = '''hello\n",
    "how\n",
    "are you'''\n",
    "print(string4)\n",
    "print(type(string4))"
   ]
  },
  {
   "cell_type": "code",
   "execution_count": 11,
   "id": "f0b6f746-3c1d-4000-ad71-1c48031e3edf",
   "metadata": {},
   "outputs": [
    {
     "name": "stdout",
     "output_type": "stream",
     "text": [
      "he is \t good boy\n",
      "<class 'str'>\n",
      "he is \n",
      " good boy\n",
      "<class 'str'>\n"
     ]
    }
   ],
   "source": [
    "string1 = 'he is \\t good boy'\n",
    "print(string1)\n",
    "print(type(string1))\n",
    "string2 = \"he is \\n good boy\"\n",
    "print(string2)\n",
    "print(type(string2))"
   ]
  },
  {
   "cell_type": "code",
   "execution_count": 19,
   "id": "52fc5b60-9ba7-451f-ac57-320e346f45ca",
   "metadata": {},
   "outputs": [
    {
     "name": "stdout",
     "output_type": "stream",
     "text": [
      "he is good boy\n",
      "how are you\n",
      "he is good boyhow are you\n"
     ]
    }
   ],
   "source": [
    "string1 = 'he is good boy'\n",
    "print(string1)\n",
    "string2 = \"how are you\"\n",
    "print(string2)\n",
    "print(string1 +string2)"
   ]
  },
  {
   "cell_type": "code",
   "execution_count": 25,
   "id": "73eda2f5-47c2-4f78-bdce-c7dcc66e72b2",
   "metadata": {},
   "outputs": [
    {
     "name": "stdout",
     "output_type": "stream",
     "text": [
      "2\n",
      "3\n",
      "23\n"
     ]
    }
   ],
   "source": [
    "string1 = '2'\n",
    "print(string1)\n",
    "string2 = \"3\"\n",
    "print(string2)\n",
    "print(string1 + string2)"
   ]
  },
  {
   "cell_type": "code",
   "execution_count": 27,
   "id": "e6e23878-f23e-4184-8cd8-6ad024e7558d",
   "metadata": {},
   "outputs": [
    {
     "name": "stdout",
     "output_type": "stream",
     "text": [
      "alleh\n"
     ]
    }
   ],
   "source": [
    "str1 = \"hella\"\n",
    "print(str1[::-1])"
   ]
  },
  {
   "cell_type": "code",
   "execution_count": 29,
   "id": "67b97f87-c4f3-4e1f-8284-bd56070bc63a",
   "metadata": {},
   "outputs": [
    {
     "name": "stdout",
     "output_type": "stream",
     "text": [
      "uoy era woh olleh\n",
      "uoy era woh olleh\n"
     ]
    }
   ],
   "source": [
    "str1 = \"hello how are you\"\n",
    "print(str1[::-1])\n",
    "str2 = str1[::-1]\n",
    "print(str2)"
   ]
  },
  {
   "cell_type": "code",
   "execution_count": 33,
   "id": "7ad84671-03a3-4e13-be06-373c74f28fc7",
   "metadata": {},
   "outputs": [
    {
     "name": "stdout",
     "output_type": "stream",
     "text": [
      "uoy era woh olleh\n",
      "uoy era woh olleh\n",
      "['hello', 'how', 'are', 'you']\n",
      "<class 'list'>\n"
     ]
    }
   ],
   "source": [
    "str1 = \"hello how are you\"\n",
    "print(str1[::-1])\n",
    "str2 = str1[::-1]\n",
    "print(str2)\n",
    "str3 = str1.split()\n",
    "print(str3)\n",
    "print(type(str3))"
   ]
  },
  {
   "cell_type": "code",
   "execution_count": 41,
   "id": "ebc787a2-2423-47f9-867f-4e446d36c2c4",
   "metadata": {},
   "outputs": [
    {
     "name": "stdout",
     "output_type": "stream",
     "text": [
      "['hello', 'how,are,you']\n",
      "2\n"
     ]
    }
   ],
   "source": [
    "str1 = \"hello,how,are,you\"\n",
    "str3 = str1.split(',',1)\n",
    "print(str3)\n",
    "print(len(str3))"
   ]
  },
  {
   "cell_type": "code",
   "execution_count": 43,
   "id": "5e753b0b-5bee-42da-b863-1476147e71fc",
   "metadata": {},
   "outputs": [
    {
     "name": "stdout",
     "output_type": "stream",
     "text": [
      "['hello', 'how', 'are,you']\n",
      "3\n"
     ]
    }
   ],
   "source": [
    "str1 = \"hello,how,are,you\"\n",
    "str3 = str1.split(',',2)\n",
    "print(str3)\n",
    "print(len(str3))"
   ]
  },
  {
   "cell_type": "code",
   "execution_count": 45,
   "id": "1d608eaf-132c-4d4b-8042-dac3eb9f8fb2",
   "metadata": {},
   "outputs": [
    {
     "name": "stdout",
     "output_type": "stream",
     "text": [
      "['hello', 'how', 'are', 'you']\n",
      "4\n"
     ]
    }
   ],
   "source": [
    "str1 = \"hello,how,are,you\"\n",
    "str3 = str1.split(',',10)\n",
    "print(str3)\n",
    "print(len(str3))"
   ]
  },
  {
   "cell_type": "code",
   "execution_count": 53,
   "id": "c597d644-b1e9-4fc1-96dd-5f5c934e6164",
   "metadata": {},
   "outputs": [
    {
     "name": "stdin",
     "output_type": "stream",
     "text": [
      "enter your string how are you\n"
     ]
    },
    {
     "name": "stdout",
     "output_type": "stream",
     "text": [
      "['you', 'are', 'how']\n"
     ]
    }
   ],
   "source": [
    "x=str(input(\"enter your string\"))\n",
    "list1 = x.split()\n",
    "print(list1[::-1])"
   ]
  },
  {
   "cell_type": "code",
   "execution_count": 70,
   "id": "292a7ed1-f602-48a9-999e-96334bd893aa",
   "metadata": {},
   "outputs": [
    {
     "name": "stdin",
     "output_type": "stream",
     "text": [
      " you are aamazing\n"
     ]
    },
    {
     "name": "stdout",
     "output_type": "stream",
     "text": [
      "gnizamaa era uoy\n",
      "['aamazing', 'are', 'you']\n",
      "aamazing are you\n",
      "<class 'str'>\n"
     ]
    }
   ],
   "source": [
    "str1 = input()\n",
    "str2 = str1.split()\n",
    "print(str1[::-1])\n",
    "print(str2[::-1])\n",
    "str3 = ' '.join(str2[::-1])\n",
    "print(str3)\n",
    "print(type(str3))"
   ]
  },
  {
   "cell_type": "code",
   "execution_count": 9,
   "id": "86448212-c3c0-4e5a-a8b1-576c287c1d99",
   "metadata": {},
   "outputs": [
    {
     "name": "stdin",
     "output_type": "stream",
     "text": [
      " He is good boy\n",
      " Ram is very hardworking and intelligent\n"
     ]
    },
    {
     "name": "stdout",
     "output_type": "stream",
     "text": [
      "['He', 'Ram', 'is', 'is', 'good', 'very', 'boy', 'hardworking', 'and', 'intelligent']\n",
      "He Ram is is good very boy hardworking and intelligent\n"
     ]
    }
   ],
   "source": [
    "string1 = input().split()\n",
    "string2 = input().split()\n",
    "string3 = []\n",
    "l1,l2 = len(string1), len(string2)\n",
    "for x in range(min(l1,l2)):\n",
    "    string3.append(string1[x])\n",
    "    string3.append(string2[x])\n",
    "if l1<l2:\n",
    "    string3.extend(string2[l1: ])\n",
    "else:\n",
    "    string3.extend(string1[l2: ])\n",
    "print(string3)\n",
    "string3 = ' '.join(string3[ : ])\n",
    "print(string3)"
   ]
  },
  {
   "cell_type": "code",
   "execution_count": 15,
   "id": "cb87d8b1-2ba3-48e0-8ff8-3f255019783b",
   "metadata": {},
   "outputs": [
    {
     "name": "stdin",
     "output_type": "stream",
     "text": [
      "Enter a word:  58vburj8jfren\n"
     ]
    },
    {
     "name": "stdout",
     "output_type": "stream",
     "text": [
      "Characters: vburjjfren\n",
      "Digits: 588\n"
     ]
    }
   ],
   "source": [
    "characters = []\n",
    "digits = []\n",
    "word = input(\"Enter a word: \")\n",
    "for char in word:\n",
    "    if char.isdigit():\n",
    "        digits.append(char)\n",
    "    elif char.isalpha():\n",
    "        characters.append(char)\n",
    "print(\"Characters:\", ''.join(characters))\n",
    "print(\"Digits:\", ''.join(digits))   "
   ]
  },
  {
   "cell_type": "code",
   "execution_count": 29,
   "id": "07c9ae66-7ad5-4cd3-9682-7cdd6bcfa54e",
   "metadata": {},
   "outputs": [
    {
     "name": "stdin",
     "output_type": "stream",
     "text": [
      " 734dbfbe\n"
     ]
    },
    {
     "name": "stdout",
     "output_type": "stream",
     "text": [
      "347bbdef\n"
     ]
    }
   ],
   "source": [
    "str1 = input()\n",
    "c = []\n",
    "d = []\n",
    "for x in str1:\n",
    "    if x.isdigit():\n",
    "        d.append(x)\n",
    "    if x.isalpha():\n",
    "        c.append(x)\n",
    "str2= \"\".join(sorted(d[:]))\n",
    "str3 = \"\".join(sorted(c[:]))\n",
    "print(str2+str3)"
   ]
  },
  {
   "cell_type": "code",
   "execution_count": 1,
   "id": "6d469638-7553-4eb3-aa10-15e53f4d1842",
   "metadata": {},
   "outputs": [
    {
     "name": "stdin",
     "output_type": "stream",
     "text": [
      " in12\n"
     ]
    },
    {
     "name": "stdout",
     "output_type": "stream",
     "text": [
      "12in\n"
     ]
    }
   ],
   "source": [
    "str1 = input()\n",
    "c=[]\n",
    "d=[]\n",
    "a=[]\n",
    "\n",
    "for x in str1:\n",
    "    if x.isdigit():\n",
    "        d.append(x)\n",
    "    elif x.isalpha():\n",
    "        c.append(x)\n",
    "    elif x.isascii():\n",
    "        a.append(x)\n",
    "str2= ''.join(sorted(d[:]))\n",
    "str3 = ''.join(sorted(c[:]))\n",
    "str4 = ''.join(a[:])\n",
    "print(str2+str3+str4)"
   ]
  },
  {
   "cell_type": "code",
   "execution_count": 23,
   "id": "c6f9b436-39f9-40da-9a3a-15a4557ed9f1",
   "metadata": {},
   "outputs": [
    {
     "name": "stdout",
     "output_type": "stream",
     "text": [
      "[1, 2, 3]\n",
      "(1, 2, 3)\n",
      "[1, 2, 3]\n",
      "[0, 0, 0, 0, 0, 0, 0, 0, 0, 0]\n",
      "(1, 2, 3, 2)\n",
      "{1, 2, 3, 4}\n",
      "{1, 2, 3, 4, 5}\n",
      "{False, True, 2, 3, 4}\n"
     ]
    }
   ],
   "source": [
    "list1 = [1,2,3]\n",
    "print(list1)\n",
    "tuple1 = (1,2,3)\n",
    "print(tuple1)\n",
    "list2 = list((1,2,3))\n",
    "print(list2)\n",
    "list3 = [0 for x in range(10)]\n",
    "print(list3)\n",
    "tuple2 = tuple((1,2,3,2))\n",
    "print(tuple2)\n",
    "set1 = {1,2,3,4}\n",
    "print(set1)\n",
    "set2 = set((1,2,3,3,4,5,True))\n",
    "print(set2)\n",
    "set3 = set((2,3,3,4,True,False))\n",
    "print(set3)"
   ]
  },
  {
   "cell_type": "code",
   "execution_count": 27,
   "id": "c8309827-42df-404a-aaa9-15428e672474",
   "metadata": {},
   "outputs": [
    {
     "name": "stdin",
     "output_type": "stream",
     "text": [
      "name1 Bhawna\n",
      "name2 bhawna\n",
      "name3 Aneesh\n",
      "name4 Diya\n",
      "name5 ram\n"
     ]
    },
    {
     "name": "stdout",
     "output_type": "stream",
     "text": [
      "{'aneesh', 'ram', 'bhawna', 'diya'}\n"
     ]
    }
   ],
   "source": [
    "str1 = input(\"name1\")\n",
    "str2 = input(\"name2\")\n",
    "str3 = input(\"name3\")\n",
    "str4 = input(\"name4\")\n",
    "str5 = input(\"name5\")\n",
    "set1 = {name.lower() for name in {str1, str2, str3, str4, str5}}\n",
    "print(set1)"
   ]
  },
  {
   "cell_type": "code",
   "execution_count": 33,
   "id": "90cfe293-71d5-40c3-9fcd-5e2f479e571e",
   "metadata": {},
   "outputs": [
    {
     "name": "stdin",
     "output_type": "stream",
     "text": [
      " hello Ram ram Sham sham SHam\n"
     ]
    },
    {
     "name": "stdout",
     "output_type": "stream",
     "text": [
      "3\n"
     ]
    }
   ],
   "source": [
    "def count_unique_names(names):\n",
    "    name_list = names.split()\n",
    "    lower_name = [name.lower() for name in name_list]\n",
    "    unique_names = set(lower_name)\n",
    "    return len(unique_names)\n",
    "print(count_unique_names(input()))"
   ]
  },
  {
   "cell_type": "code",
   "execution_count": 52,
   "id": "71ee46be-30ba-4e04-91a1-4afdfaa15238",
   "metadata": {},
   "outputs": [
    {
     "name": "stdout",
     "output_type": "stream",
     "text": [
      "(1, 2, 3, 'hello')\n",
      "(1, 2, 3, 2, 'Ram', 3.5)\n",
      "<class 'tuple'>\n",
      "(2, 3)\n",
      "(2, 3, 2, 'Ram', 3.5)\n",
      "[1, 2, 3, 2, 'Ram', 3.5]\n",
      "(1, 2, 3, 10, 'Ram', 3.5)\n",
      "(1, 2, 3, 10, 'Ram', 3.5, 1, 2, 3, 'hello')\n",
      "(1, 2, 3, 'hello', 1, 2, 3, 10, 'Ram', 3.5, 1, 2, 3, 'hello')\n",
      "1\n",
      "2\n",
      "3\n",
      "10\n",
      "Ram\n",
      "3.5\n",
      "1\n",
      "2\n",
      "3\n",
      "hello\n"
     ]
    }
   ],
   "source": [
    "tuple1 = (1,2,3,\"hello\")\n",
    "print(tuple1)\n",
    "tuple2 = tuple((1,2,3,2,\"Ram\",3.5))\n",
    "print(tuple2)\n",
    "print(type(tuple2))\n",
    "print(tuple2[1:3])\n",
    "print(tuple2[1:])\n",
    "list1 = list(tuple2)\n",
    "print(list1)\n",
    "list1[3]=10\n",
    "tuple2 = tuple(list1)\n",
    "print(tuple2)\n",
    "tuple2 += tuple1\n",
    "print(tuple2)\n",
    "tuple3 = tuple1 + tuple2\n",
    "print(tuple3)\n",
    "for x in tuple2:\n",
    "    print(x)"
   ]
  },
  {
   "cell_type": "code",
   "execution_count": 54,
   "id": "2bc5dfc0-dd9f-4d72-9915-428c4254aa84",
   "metadata": {},
   "outputs": [
    {
     "name": "stdout",
     "output_type": "stream",
     "text": [
      "(1, 2, 3, 2, 'Ram', 3.5)\n"
     ]
    },
    {
     "ename": "NameError",
     "evalue": "name 'tuple2' is not defined",
     "output_type": "error",
     "traceback": [
      "\u001b[1;31m---------------------------------------------------------------------------\u001b[0m",
      "\u001b[1;31mNameError\u001b[0m                                 Traceback (most recent call last)",
      "Cell \u001b[1;32mIn[54], line 4\u001b[0m\n\u001b[0;32m      2\u001b[0m \u001b[38;5;28mprint\u001b[39m(tuple2)\n\u001b[0;32m      3\u001b[0m \u001b[38;5;28;01mdel\u001b[39;00m tuple2\n\u001b[1;32m----> 4\u001b[0m \u001b[38;5;28mprint\u001b[39m(tuple2)\n",
      "\u001b[1;31mNameError\u001b[0m: name 'tuple2' is not defined"
     ]
    }
   ],
   "source": [
    "tuple2 = tuple((1,2,3,2,\"Ram\",3.5))\n",
    "print(tuple2)\n",
    "del tuple2\n",
    "print(tuple2)"
   ]
  },
  {
   "cell_type": "code",
   "execution_count": 58,
   "id": "917ea0e1-177d-4dcf-a44b-7d318491dc0a",
   "metadata": {},
   "outputs": [
    {
     "name": "stdout",
     "output_type": "stream",
     "text": [
      "4\n",
      "1\n"
     ]
    }
   ],
   "source": [
    "tuple2 = tuple((1,2,3,2,\"Ram\",2,2,3.5))\n",
    "print(tuple2.count(2))\n",
    "print(tuple2.index(2))"
   ]
  },
  {
   "cell_type": "code",
   "execution_count": 8,
   "id": "78c69419-a273-4a14-bae4-ff6acf76b684",
   "metadata": {},
   "outputs": [
    {
     "name": "stdout",
     "output_type": "stream",
     "text": [
      "{1, 2, 3, 4, 5, 6, 7, 8}\n",
      "{1, 2, 3, 5, 7, 'hii'}\n",
      "{1, 2, 3, 4, 5, 6, 7, 8, 'hello'}\n",
      "{1, 2, 3, 4, 5, 6, 7, 8, 'hello', 'hii'}\n",
      "{1, 2, 3, 4, 5, 6, 7, 8, 'hello', 10, 20, 'hii'}\n",
      "1\n",
      "2\n",
      "3\n",
      "4\n",
      "5\n",
      "6\n",
      "7\n",
      "8\n",
      "hello\n",
      "10\n",
      "20\n",
      "hii\n",
      "True\n",
      "{2, 3, 4, 5, 6, 7, 8, 'hello', 10, 20, 'hii'}\n",
      "{3, 4, 5, 6, 7, 8, 'hello', 10, 20, 'hii'}\n",
      "set()\n"
     ]
    },
    {
     "ename": "NameError",
     "evalue": "name 'set1' is not defined",
     "output_type": "error",
     "traceback": [
      "\u001b[1;31m---------------------------------------------------------------------------\u001b[0m",
      "\u001b[1;31mNameError\u001b[0m                                 Traceback (most recent call last)",
      "Cell \u001b[1;32mIn[8], line 22\u001b[0m\n\u001b[0;32m     20\u001b[0m \u001b[38;5;28mprint\u001b[39m(set1)\n\u001b[0;32m     21\u001b[0m \u001b[38;5;28;01mdel\u001b[39;00m set1\n\u001b[1;32m---> 22\u001b[0m \u001b[38;5;28mprint\u001b[39m(set1)\n",
      "\u001b[1;31mNameError\u001b[0m: name 'set1' is not defined"
     ]
    }
   ],
   "source": [
    "set1 = {1,2,3,4,5,6,7,8}\n",
    "set2 = {2,5,7,3,1, \"hii\"}\n",
    "list1 = [10,20,10]\n",
    "print(set1)\n",
    "print(set2)\n",
    "set1.add('hello')\n",
    "print(set1)\n",
    "set1.update(set2)\n",
    "print(set1)\n",
    "set1.update(list1)\n",
    "print(set1)\n",
    "for x in set1:\n",
    "    print(x)\n",
    "print(2 in set1)\n",
    "set1.discard(1)\n",
    "print(set1)\n",
    "set1.pop()\n",
    "print(set1)\n",
    "set1.clear()\n",
    "print(set1)\n",
    "del set1\n",
    "print(set1)"
   ]
  },
  {
   "cell_type": "code",
   "execution_count": 4,
   "id": "043009e8-86fd-4b86-8566-70f416ce373b",
   "metadata": {},
   "outputs": [
    {
     "name": "stdin",
     "output_type": "stream",
     "text": [
      " Ojas ojas ram\n"
     ]
    },
    {
     "name": "stdout",
     "output_type": "stream",
     "text": [
      "{'ojas'}\n"
     ]
    }
   ],
   "source": [
    "def input_names_starts_with_vowels(names):\n",
    "    vowels = ('a', 'e', 'i', 'o', 'u')\n",
    "    name_list = names.split()\n",
    "    lower_name = [name.lower() for name in name_list]\n",
    "    unique_names = set(lower_name)\n",
    "    names_starting_with_vowels = {name for name in unique_names if name.startswith(vowels)}\n",
    "    return names_starting_with_vowels\n",
    "\n",
    "print(input_names_starts_with_vowels(input()))\n"
   ]
  },
  {
   "cell_type": "code",
   "execution_count": 12,
   "id": "781563af-758d-4ce9-b1bc-93e061117ef9",
   "metadata": {},
   "outputs": [
    {
     "name": "stdin",
     "output_type": "stream",
     "text": [
      " apple Apple papaya\n"
     ]
    },
    {
     "name": "stdout",
     "output_type": "stream",
     "text": [
      "2\n"
     ]
    }
   ],
   "source": [
    "def count_names(names):\n",
    "    names_list = names.split()\n",
    "    names_final = [name for name in names_list if name[0:1].lower() in ('a','e','i','o','u')]\n",
    "    name_set = set(names_final)\n",
    "    return len(name_set)\n",
    "print(count_names(input()))"
   ]
  },
  {
   "cell_type": "code",
   "execution_count": 22,
   "id": "a7388ac3-320c-45ff-9dbb-f68e56227eca",
   "metadata": {},
   "outputs": [
    {
     "name": "stdout",
     "output_type": "stream",
     "text": [
      "{1, 2, 3, 4, 5}\n"
     ]
    },
    {
     "ename": "TypeError",
     "evalue": "'set' object is not subscriptable",
     "output_type": "error",
     "traceback": [
      "\u001b[1;31m---------------------------------------------------------------------------\u001b[0m",
      "\u001b[1;31mTypeError\u001b[0m                                 Traceback (most recent call last)",
      "Cell \u001b[1;32mIn[22], line 3\u001b[0m\n\u001b[0;32m      1\u001b[0m set1 \u001b[38;5;241m=\u001b[39m {\u001b[38;5;241m1\u001b[39m,\u001b[38;5;241m2\u001b[39m,\u001b[38;5;241m3\u001b[39m,\u001b[38;5;241m4\u001b[39m,\u001b[38;5;241m5\u001b[39m,\u001b[38;5;28;01mTrue\u001b[39;00m}\n\u001b[0;32m      2\u001b[0m \u001b[38;5;28mprint\u001b[39m(set1)\n\u001b[1;32m----> 3\u001b[0m \u001b[38;5;28mprint\u001b[39m(set1[\u001b[38;5;241m1\u001b[39m])\n",
      "\u001b[1;31mTypeError\u001b[0m: 'set' object is not subscriptable"
     ]
    }
   ],
   "source": [
    "set1 = {1,2,3,4,5,True}\n",
    "print(set1)\n",
    "print(set1[1])"
   ]
  },
  {
   "cell_type": "code",
   "execution_count": 26,
   "id": "c39a0582-92f6-4e91-a008-b37f75688990",
   "metadata": {},
   "outputs": [
    {
     "name": "stdout",
     "output_type": "stream",
     "text": [
      "{1, 2, 3, 4, 5}\n",
      "5\n",
      "1\n",
      "2\n",
      "3\n",
      "4\n",
      "5\n",
      "True\n"
     ]
    }
   ],
   "source": [
    "set1 = {1,2,3,4,5,True}\n",
    "print(set1)\n",
    "print(len(set1))\n",
    "for x in set1:\n",
    "    print(x)\n",
    "print(2 in set1)"
   ]
  },
  {
   "cell_type": "code",
   "execution_count": 28,
   "id": "f5c7af3b-c0ad-4d02-86e2-262faff7b7cf",
   "metadata": {},
   "outputs": [
    {
     "name": "stdout",
     "output_type": "stream",
     "text": [
      "{1, 2, 3, 4, 5}\n",
      "{1, 2, 3, 4, 5, 'hello'}\n"
     ]
    }
   ],
   "source": [
    "set1 = {1,2,3,4,5,True}\n",
    "print(set1)\n",
    "set1.add(\"hello\")\n",
    "print(set1)"
   ]
  },
  {
   "cell_type": "code",
   "execution_count": 32,
   "id": "00b551b8-1690-466f-bd01-c7e4ee780a91",
   "metadata": {},
   "outputs": [
    {
     "name": "stdout",
     "output_type": "stream",
     "text": [
      "{1, 2, 3, 4, 5}\n",
      "{1, 2, 3, 4, 5, 9, 10}\n"
     ]
    }
   ],
   "source": [
    "set1 = {1,2,3,4,5,True}\n",
    "set2 = {9,10}\n",
    "print(set1)\n",
    "set1.update(set2)\n",
    "print(set1)"
   ]
  },
  {
   "cell_type": "code",
   "execution_count": 36,
   "id": "3cc88b5a-3ec5-49bf-9d3b-5d15d3e2ba98",
   "metadata": {},
   "outputs": [
    {
     "name": "stdout",
     "output_type": "stream",
     "text": [
      "{1, 2, 3, 4, 5, 9, 10}\n",
      "{1, 3, 4, 5, 9, 10}\n"
     ]
    }
   ],
   "source": [
    "set1 = {1,2,3,4,5,True}\n",
    "set2 = [9,10,10]\n",
    "set1.update(set2)\n",
    "print(set1)\n",
    "set1.remove(2)\n",
    "print(set1)"
   ]
  },
  {
   "cell_type": "code",
   "execution_count": 46,
   "id": "fabe0e20-625a-4159-8ff7-f5564d23ae25",
   "metadata": {},
   "outputs": [
    {
     "name": "stdout",
     "output_type": "stream",
     "text": [
      "{1, 2, 3, 4, 5, 9, 10}\n",
      "{1, 3, 4, 5, 9, 10}\n",
      "{3, 4, 5, 9, 10}\n",
      "set()\n"
     ]
    },
    {
     "ename": "NameError",
     "evalue": "name 'set1' is not defined",
     "output_type": "error",
     "traceback": [
      "\u001b[1;31m---------------------------------------------------------------------------\u001b[0m",
      "\u001b[1;31mNameError\u001b[0m                                 Traceback (most recent call last)",
      "Cell \u001b[1;32mIn[46], line 12\u001b[0m\n\u001b[0;32m     10\u001b[0m \u001b[38;5;28mprint\u001b[39m(set1)\n\u001b[0;32m     11\u001b[0m \u001b[38;5;28;01mdel\u001b[39;00m set1\n\u001b[1;32m---> 12\u001b[0m \u001b[38;5;28mprint\u001b[39m(set1)\n",
      "\u001b[1;31mNameError\u001b[0m: name 'set1' is not defined"
     ]
    }
   ],
   "source": [
    "set1 = {1,2,3,4,5,True}\n",
    "set2 = [9,10,10]\n",
    "set1.update(set2)\n",
    "print(set1)\n",
    "set1.discard(2)\n",
    "print(set1)\n",
    "set1.pop()\n",
    "print(set1)\n",
    "set1.clear()\n",
    "print(set1)\n",
    "del set1\n",
    "print(set1)"
   ]
  },
  {
   "cell_type": "code",
   "execution_count": 62,
   "id": "ca7547e5-666f-45c5-9296-3cc08b6c7400",
   "metadata": {
    "collapsed": true,
    "jupyter": {
     "outputs_hidden": true
    }
   },
   "outputs": [
    {
     "name": "stdout",
     "output_type": "stream",
     "text": [
      "{1, 2, 3, 4, 5, 6, 7}\n",
      "{2}\n",
      "{1, 2, 3, 4, 5, 6, 9}\n",
      "{6}\n",
      "{1, 3, 4, 5}\n",
      "{2}\n"
     ]
    },
    {
     "ename": "AttributeError",
     "evalue": "'set' object has no attribute 'union_update'",
     "output_type": "error",
     "traceback": [
      "\u001b[1;31m---------------------------------------------------------------------------\u001b[0m",
      "\u001b[1;31mAttributeError\u001b[0m                            Traceback (most recent call last)",
      "Cell \u001b[1;32mIn[62], line 16\u001b[0m\n\u001b[0;32m     14\u001b[0m set1\u001b[38;5;241m.\u001b[39mintersection_update(set2)\n\u001b[0;32m     15\u001b[0m \u001b[38;5;28mprint\u001b[39m(set1)\n\u001b[1;32m---> 16\u001b[0m set1\u001b[38;5;241m.\u001b[39munion_update(set2)\n\u001b[0;32m     17\u001b[0m \u001b[38;5;28mprint\u001b[39m(set1)\n",
      "\u001b[1;31mAttributeError\u001b[0m: 'set' object has no attribute 'union_update'"
     ]
    }
   ],
   "source": [
    "set1 = {1,2,3,4,5,True}\n",
    "set2 = {6,2,7}\n",
    "set3 = set1.union(set2)\n",
    "print(set3)\n",
    "set4 = set1.intersection(set2)\n",
    "print(set4)\n",
    "set5 = [6,9]\n",
    "set6 = set1.union(set5)\n",
    "print(set6)\n",
    "set7 = set2.intersection(set5)\n",
    "print(set7)\n",
    "set8 = set1.difference(set2)\n",
    "print(set8)\n",
    "set1.intersection_update(set2)\n",
    "print(set1)\n",
    "set1.union_update(set2)\n",
    "print(set1)"
   ]
  },
  {
   "cell_type": "code",
   "execution_count": 64,
   "id": "d46010df-bce2-432d-ae32-df5fcdc52ef0",
   "metadata": {},
   "outputs": [
    {
     "name": "stdout",
     "output_type": "stream",
     "text": [
      "{1, 2, 4, 5}\n"
     ]
    }
   ],
   "source": [
    "set1 = {1,2,3}\n",
    "set2 = {3,4,5}\n",
    "set3 = set1.symmetric_difference(set2)\n",
    "print(set3)"
   ]
  },
  {
   "cell_type": "code",
   "execution_count": 35,
   "id": "2539903b-5f6c-4a13-b597-9ecd910c5c70",
   "metadata": {},
   "outputs": [
    {
     "name": "stdout",
     "output_type": "stream",
     "text": [
      "{'name': 'xyz', 'age': 21, 'gender': 'Female'}\n",
      "{'name': 'xyz', 'age': 21, 'gender': 'Female'}\n",
      "{'name': 'xyz', 'age': 21, 'gender': 'Female'}\n",
      "dict_keys(['name', 'age', 'gender'])\n",
      "dict_values(['xyz', 21, 'Female'])\n",
      "dict_items([('name', 'xyz'), ('age', 21), ('gender', 'Female')])\n",
      "{'name': 'xyz', 'age': 21, 'gender': 'Female', 'section': 'G26'}\n",
      "{'name': 'xyz', 'age': 21, 'gender': 'Female', 'section': 'G26', 'grade': 'A'}\n",
      "{'name': 'xyz', 'age': 21, 'gender': 'Female', 'section': 'G26', 'grade': 'B'}\n",
      "{'name': 'xyz', 'age': 21, 'gender': 'Female', 'section': 'G26', 'grade': 'B', 'hobbies': ['singing', 'music', 'cricket', 'dancing']}\n",
      "{'name': 'xyz', 'age': 21, 'gender': 'Female', 'section': 'G26', 'hobbies': ['singing', 'music', 'cricket', 'dancing']}\n",
      "{'name': 'xyz', 'age': 21, 'gender': 'Female', 'section': 'G26'}\n",
      "{'name': 'xyz', 'age': 21, 'gender': 'Female'}\n"
     ]
    },
    {
     "ename": "NameError",
     "evalue": "name 'dict1' is not defined",
     "output_type": "error",
     "traceback": [
      "\u001b[1;31m---------------------------------------------------------------------------\u001b[0m",
      "\u001b[1;31mNameError\u001b[0m                                 Traceback (most recent call last)",
      "Cell \u001b[1;32mIn[35], line 29\u001b[0m\n\u001b[0;32m     27\u001b[0m \u001b[38;5;28mprint\u001b[39m(dict1)\n\u001b[0;32m     28\u001b[0m \u001b[38;5;28;01mdel\u001b[39;00m dict1\n\u001b[1;32m---> 29\u001b[0m \u001b[38;5;28mprint\u001b[39m(dict1)\n",
      "\u001b[1;31mNameError\u001b[0m: name 'dict1' is not defined"
     ]
    }
   ],
   "source": [
    "dict1 = {\n",
    "    \"name\" : \"xyz\",\n",
    "    \"age\" : 21,\n",
    "    \"gender\" : \"Female\"\n",
    "}\n",
    "print(dict1)\n",
    "dict2 = dict1.copy()\n",
    "print(dict2)\n",
    "dict3 = dict(dict1)\n",
    "print(dict3)\n",
    "print(dict1.keys())\n",
    "print(dict1.values())\n",
    "print(dict1.items())\n",
    "dict1[\"section\"]=\"G26\"\n",
    "print(dict1)\n",
    "dict1.update({\"grade\":\"A\"})\n",
    "print(dict1)\n",
    "dict1.update({\"grade\":\"B\"})\n",
    "print(dict1)\n",
    "dict1[\"hobbies\"] =[\"singing\", \"music\", \"cricket\", \"dancing\"]\n",
    "print(dict1)\n",
    "dict1.pop(\"grade\")\n",
    "print(dict1)\n",
    "dict1.popitem()\n",
    "print(dict1)\n",
    "del dict1[\"section\"]\n",
    "print(dict1)\n",
    "del dict1\n",
    "print(dict1)"
   ]
  },
  {
   "cell_type": "code",
   "execution_count": 37,
   "id": "6140d942-54e5-4c4d-92f4-154379e9d1f9",
   "metadata": {},
   "outputs": [
    {
     "name": "stdout",
     "output_type": "stream",
     "text": [
      "{}\n"
     ]
    }
   ],
   "source": [
    "dict1 = {\n",
    "    \"name\" : \"xyz\",\n",
    "    \"age\" : 21,\n",
    "    \"gender\" : \"Female\"\n",
    "}\n",
    "dict1.clear()\n",
    "print(dict1)"
   ]
  },
  {
   "cell_type": "code",
   "execution_count": 39,
   "id": "b9df1644-f5a7-4e22-ae69-eb9f1ec02e69",
   "metadata": {},
   "outputs": [
    {
     "name": "stdout",
     "output_type": "stream",
     "text": [
      "ABC\n",
      "XYZ\n",
      "PQR\n",
      "UVW\n",
      "IJK\n"
     ]
    }
   ],
   "source": [
    "dict1 = {\n",
    "    \"ABC\" : 10,\n",
    "    \"XYZ\" : 20,\n",
    "    \"PQR\" : 50,\n",
    "    \"UVW\" : 70,\n",
    "    \"IJK\" : 95,\n",
    "}\n",
    "for x in dict1:\n",
    "    print(x)"
   ]
  },
  {
   "cell_type": "code",
   "execution_count": 47,
   "id": "3372e6a5-89fd-4511-ac69-8148bea1ea95",
   "metadata": {},
   "outputs": [
    {
     "name": "stdout",
     "output_type": "stream",
     "text": [
      "ram\n",
      "shyam\n",
      "xyz\n",
      "abc\n",
      "50\n",
      "60\n",
      "70\n",
      "40\n",
      "ram\n",
      "shyam\n",
      "xyz\n",
      "abc\n",
      "50\n",
      "60\n",
      "70\n",
      "40\n",
      "('ram', 50)\n",
      "('shyam', 60)\n",
      "('xyz', 70)\n",
      "('abc', 40)\n"
     ]
    }
   ],
   "source": [
    "student1 = {\n",
    "    \"ram\" : 50,\n",
    "    \"shyam\" : 60,\n",
    "    \"xyz\" : 70,\n",
    "    \"abc\" : 40\n",
    "}\n",
    "for x in student1:\n",
    "    print(x)\n",
    "for x in student1:\n",
    "    print(student1[x])\n",
    "for x in student1.keys():\n",
    "    print(x)\n",
    "for x in student1.values():\n",
    "    print(x)\n",
    "for x in student1.items():\n",
    "    print(x)"
   ]
  },
  {
   "cell_type": "code",
   "execution_count": 57,
   "id": "f87a0417-089e-4abb-a672-8e9078a2bd5c",
   "metadata": {},
   "outputs": [
    {
     "name": "stdout",
     "output_type": "stream",
     "text": [
      "shyam\n",
      "xyz\n"
     ]
    }
   ],
   "source": [
    "student1 = {\n",
    "    \"ram\" : 30,\n",
    "    \"shyam\" : 60,\n",
    "    \"xyz\" : 70,\n",
    "    \"abc\" : 10\n",
    "}\n",
    "for x in student1:\n",
    "    student1[x] += 10\n",
    "    if student1[x] > 50:\n",
    "        print(x)\n"
   ]
  },
  {
   "cell_type": "code",
   "execution_count": 59,
   "id": "4bdf0dd2-ebc4-4481-92f2-6a860ed86346",
   "metadata": {},
   "outputs": [
    {
     "name": "stdout",
     "output_type": "stream",
     "text": [
      "{'ram': 40, 'shyam': 70, 'xyz': 80, 'abc': 20}\n"
     ]
    }
   ],
   "source": [
    "student1 = {\n",
    "    \"ram\" : 30,\n",
    "    \"shyam\" : 60,\n",
    "    \"xyz\" : 70,\n",
    "    \"abc\" : 10\n",
    "}\n",
    "for x in student1:\n",
    "    student1[x] += 10\n",
    "print(student1)"
   ]
  },
  {
   "cell_type": "code",
   "execution_count": 73,
   "id": "c2b0e309-d5c7-4cf5-a906-aebe6f4782d3",
   "metadata": {},
   "outputs": [
    {
     "name": "stdout",
     "output_type": "stream",
     "text": [
      "{'laptop': 70, 'cell phone': 50, 'tablet': 50, 'mouse': 70}\n"
     ]
    }
   ],
   "source": [
    "store1 = {\n",
    "    \"laptop\" : 40,\n",
    "    \"cell phone\" : 50,\n",
    "    \"tablet\" : 30\n",
    "}\n",
    "store2 = {\n",
    "    \"mouse\" : 70,\n",
    "    \"laptop\" : 30,\n",
    "    \"tablet\" : 20,\n",
    "}\n",
    "for x in store2.keys():\n",
    "    if x in store1.keys():\n",
    "         store1[x]+=store2[x]\n",
    "    else:\n",
    "        store1.update({x:store2[x]})\n",
    "print(store1)"
   ]
  },
  {
   "cell_type": "code",
   "execution_count": 79,
   "id": "f4ce9da5-ea28-4a25-a4f3-2353bbe0859d",
   "metadata": {},
   "outputs": [
    {
     "name": "stdout",
     "output_type": "stream",
     "text": [
      "{'laptop': 70, 'cell phone': 50, 'tablet': 50, 'mouse': 70}\n"
     ]
    }
   ],
   "source": [
    "a = {\n",
    "    \"laptop\" : 40,\n",
    "    \"cell phone\" : 50,\n",
    "    \"tablet\" : 30\n",
    "}\n",
    "b = {\n",
    "    \"mouse\" : 70,\n",
    "    \"laptop\" : 30,\n",
    "    \"tablet\" : 20,\n",
    "}\n",
    "c = a.copy()\n",
    "for x,y in b.items():\n",
    "    if x in c:\n",
    "        c[x]+=y\n",
    "    else:\n",
    "        c[x]=y\n",
    "print(c)"
   ]
  },
  {
   "cell_type": "code",
   "execution_count": 1,
   "id": "a78c0fc2-e42f-4246-9d87-5d833b21ed62",
   "metadata": {},
   "outputs": [
    {
     "name": "stdout",
     "output_type": "stream",
     "text": [
      "{'sdt1': {'name': 'ram', 'age': 30}, 'sdt2': {'name': 'shyam', 'age': 40}}\n"
     ]
    }
   ],
   "source": [
    "sdt1 = {\n",
    "    \"name\" : \"ram\",\n",
    "    \"age\" : 30\n",
    "}\n",
    "sdt2 = {\n",
    "    \"name\" : \"shyam\",\n",
    "    \"age\" : 40\n",
    "}\n",
    "sdt = {\n",
    "    \"sdt1\" : sdt1,\n",
    "    \"sdt2\" : sdt2\n",
    "}\n",
    "print(sdt)"
   ]
  },
  {
   "cell_type": "code",
   "execution_count": 5,
   "id": "061f5d6c-f874-4723-94f1-18d3f20b208a",
   "metadata": {},
   "outputs": [
    {
     "name": "stdout",
     "output_type": "stream",
     "text": [
      "p1\n",
      "name   abc\n",
      "age   14\n",
      "p2\n",
      "name   xyz\n",
      "age   20\n",
      "p3\n",
      "name   uvw\n",
      "age   55\n",
      "p4\n",
      "name   pqr\n",
      "age   46\n",
      "p5\n",
      "name   mno\n",
      "age   18\n"
     ]
    }
   ],
   "source": [
    "p1 = {\n",
    "    \"name\" : \"abc\",\n",
    "    \"age\" : 14,\n",
    "}\n",
    "p2 = {\n",
    "    \"name\" : \"xyz\",\n",
    "    \"age\" : 20,\n",
    "}\n",
    "p3 = {\n",
    "    \"name\" : \"uvw\",\n",
    "    \"age\" : 55,\n",
    "}\n",
    "p4 = {\n",
    "    \"name\" : \"pqr\",\n",
    "    \"age\" : 46,\n",
    "}\n",
    "p5 = {\n",
    "    \"name\" : \"mno\",\n",
    "    \"age\" : 18,\n",
    "}\n",
    "p={\n",
    "    \"p1\" : p1,\n",
    "    \"p2\" : p2,\n",
    "    \"p3\" : p3,\n",
    "    \"p4\" : p4,\n",
    "    \"p5\" : p5\n",
    "}\n",
    "for x,y in p.items():\n",
    "    print(x)\n",
    "    for z in y:\n",
    "        print(z, \" \", y[z])"
   ]
  },
  {
   "cell_type": "code",
   "execution_count": null,
   "id": "3367a31e-e6f7-4ef8-be34-ea6b1e9c6eac",
   "metadata": {},
   "outputs": [],
   "source": []
  }
 ],
 "metadata": {
  "kernelspec": {
   "display_name": "Python 3 (ipykernel)",
   "language": "python",
   "name": "python3"
  },
  "language_info": {
   "codemirror_mode": {
    "name": "ipython",
    "version": 3
   },
   "file_extension": ".py",
   "mimetype": "text/x-python",
   "name": "python",
   "nbconvert_exporter": "python",
   "pygments_lexer": "ipython3",
   "version": "3.12.4"
  }
 },
 "nbformat": 4,
 "nbformat_minor": 5
}
